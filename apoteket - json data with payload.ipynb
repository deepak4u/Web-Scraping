{
 "cells": [
  {
   "cell_type": "code",
   "execution_count": 2,
   "id": "b00a6583",
   "metadata": {},
   "outputs": [
    {
     "name": "stdout",
     "output_type": "stream",
     "text": [
      "Search product: opdivo\n",
      "opdivo - Product Data.csv Sucessfully saved\n"
     ]
    },
    {
     "data": {
      "text/html": [
       "<div>\n",
       "<style scoped>\n",
       "    .dataframe tbody tr th:only-of-type {\n",
       "        vertical-align: middle;\n",
       "    }\n",
       "\n",
       "    .dataframe tbody tr th {\n",
       "        vertical-align: top;\n",
       "    }\n",
       "\n",
       "    .dataframe thead th {\n",
       "        text-align: right;\n",
       "    }\n",
       "</style>\n",
       "<table border=\"1\" class=\"dataframe\">\n",
       "  <thead>\n",
       "    <tr style=\"text-align: right;\">\n",
       "      <th></th>\n",
       "      <th>product_name</th>\n",
       "      <th>product_brand</th>\n",
       "      <th>old_price</th>\n",
       "      <th>curr_price</th>\n",
       "      <th>product_link</th>\n",
       "    </tr>\n",
       "  </thead>\n",
       "  <tbody>\n",
       "    <tr>\n",
       "      <th>0</th>\n",
       "      <td>OPDIVO, konc till inf-vätska, lösning 10 mg/ml...</td>\n",
       "      <td></td>\n",
       "      <td></td>\n",
       "      <td>15817.0</td>\n",
       "      <td>https://www.apoteket.se/produkt/opdivo-koncent...</td>\n",
       "    </tr>\n",
       "    <tr>\n",
       "      <th>1</th>\n",
       "      <td>OPDIVO, konc till inf-vätska, lösning 10 mg/ml...</td>\n",
       "      <td></td>\n",
       "      <td></td>\n",
       "      <td>5261.5</td>\n",
       "      <td>https://www.apoteket.se/produkt/opdivo-koncent...</td>\n",
       "    </tr>\n",
       "    <tr>\n",
       "      <th>2</th>\n",
       "      <td>OPDIVO, konc till inf-vätska, lösning 10 mg/ml...</td>\n",
       "      <td></td>\n",
       "      <td></td>\n",
       "      <td>31281.5</td>\n",
       "      <td>https://www.apoteket.se/produkt/opdivo-koncent...</td>\n",
       "    </tr>\n",
       "    <tr>\n",
       "      <th>3</th>\n",
       "      <td>OPDIVO, konc till inf-vätska, lösning 10 mg/ml...</td>\n",
       "      <td></td>\n",
       "      <td></td>\n",
       "      <td>13067.5</td>\n",
       "      <td>https://www.apoteket.se/produkt/opdivo-koncent...</td>\n",
       "    </tr>\n",
       "  </tbody>\n",
       "</table>\n",
       "</div>"
      ],
      "text/plain": [
       "                                        product_name product_brand old_price  \\\n",
       "0  OPDIVO, konc till inf-vätska, lösning 10 mg/ml...                           \n",
       "1  OPDIVO, konc till inf-vätska, lösning 10 mg/ml...                           \n",
       "2  OPDIVO, konc till inf-vätska, lösning 10 mg/ml...                           \n",
       "3  OPDIVO, konc till inf-vätska, lösning 10 mg/ml...                           \n",
       "\n",
       "   curr_price                                       product_link  \n",
       "0     15817.0  https://www.apoteket.se/produkt/opdivo-koncent...  \n",
       "1      5261.5  https://www.apoteket.se/produkt/opdivo-koncent...  \n",
       "2     31281.5  https://www.apoteket.se/produkt/opdivo-koncent...  \n",
       "3     13067.5  https://www.apoteket.se/produkt/opdivo-koncent...  "
      ]
     },
     "metadata": {},
     "output_type": "display_data"
    },
    {
     "name": "stdout",
     "output_type": "stream",
     "text": [
      "None\n"
     ]
    }
   ],
   "source": [
    "import requests\n",
    "from lxml import html\n",
    "import pandas as pd\n",
    "import re\n",
    "import json\n",
    "import random\n",
    "import time\n",
    "# import cfscrape\n",
    "\n",
    "headers = {\n",
    "    \"Accept\": \"application/json, text/plain, */*\",\n",
    "    \"Accept-Encoding\": \"gzip, deflate, br\",\n",
    "    \"Accept-Language\": \"en-US,en;q=0.9\",\n",
    "    \"Content-Type\": \"application/json\",\n",
    "    \"Host\": \"apoteket-se.54proxy.com\",\n",
    "    \"Origin\": \"https://www.apoteket.se\",\n",
    "    \"Referer\": \"https://www.apoteket.se/\",\n",
    "    \"User-Agent\": \"Mozilla/5.0 (Windows NT 10.0; Win64; x64) AppleWebKit/537.36 (KHTML, like Gecko) Chrome/108.0.0.0 Safari/537.36\",\n",
    "    \"api-version\": \"V3\",\n",
    "    \"lib-version\": \"JS:1.10.143\",\n",
    "    \"sec-ch-ua\": \"Not?A_Brand';v='8', 'Chromium';v='109', 'Google Chrome';v='109\",\n",
    "    \"sec-ch-ua-mobile\": \"?0\",\n",
    "    \"sec-ch-ua-platform\": \"Windows\",\n",
    "    \"user-id\": \"1XJXY4X4rp\"\n",
    "}\n",
    "\n",
    "url = 'https://apoteket-se.54proxy.com/search'\n",
    "home_url = 'https://www.apoteket.se'\n",
    "final_data = []\n",
    "\n",
    "keyword = input(\"Search product: \")\n",
    "# Temporary set Product fetch threshold through JSON payload\n",
    "product_fetch_threshold = 200\n",
    "json_payload = {\n",
    "    \"query\": f\"{keyword}\",\n",
    "    \"resultsOptions\": {\"take\": product_fetch_threshold}\n",
    "}\n",
    "\n",
    "# Final File Name\n",
    "file_name = f\"{keyword} - Product Data\"\n",
    "\n",
    "resp = requests.post(url, headers=headers, json=json_payload)\n",
    "# tree = html.fromstring(resp.text)\n",
    "# resp.status_code\n",
    "\n",
    "# JSON object\n",
    "json_data = resp.json()\n",
    "\n",
    "if json_data.get('results'):\n",
    "    if json_data['results']['count'] != 0:\n",
    "        # Iteration for results items\n",
    "        for item_no in range(len(json_data['results']['items'])):\n",
    "            # Iteration for data key value info\n",
    "            product_name = product_brand = old_price = curr_price = product_link = ''\n",
    "            for key_data in json_data['results']['items'][item_no]['attributes']:\n",
    "                # product_name = product_brand = old_price = curr_price = product_link =''\n",
    "                # Find key and its data in attributes lists\n",
    "                if key_data.get('name') == 'Name':\n",
    "                    if key_data['values']:\n",
    "                        product_name = key_data['values'][0].strip()\n",
    "                if key_data.get('name') == 'Brand':\n",
    "                    if key_data['values']:\n",
    "                        product_brand = key_data['values'][0].strip()\n",
    "                if key_data.get('name') == 'Price':\n",
    "                    if key_data['values']:\n",
    "                        old_price = key_data['values'][0]\n",
    "                if key_data.get('name') == 'CampaignPrice':\n",
    "                    # Todo: Check 'SortPrice'\n",
    "                    if key_data['values']:\n",
    "                        curr_price = key_data['values'][0]\n",
    "                        if curr_price == 0:\n",
    "                            curr_price = ''\n",
    "                            # Swap values if old_price availabe - Site changing location of the values\n",
    "                            curr_price, old_price = old_price, curr_price\n",
    "                if key_data.get('name') == 'ProductURL':\n",
    "                    if key_data['values']:\n",
    "                        product_link = home_url + key_data['values'][0].strip()\n",
    "\n",
    "            final_data.append({\n",
    "                'product_name': product_name,\n",
    "                'product_brand': product_brand,\n",
    "                'old_price': old_price,\n",
    "                'curr_price': curr_price,\n",
    "                'product_link': product_link\n",
    "            })\n",
    "\n",
    "        pd.DataFrame(final_data).to_csv(f\"{file_name}.csv\", index=False)\n",
    "        print(f\"{file_name}.csv Sucessfully saved\")\n",
    "        print(display(pd.DataFrame(final_data)))\n",
    "    else:\n",
    "        print(\"No Data Found!!!\")\n",
    "else:\n",
    "    print(\"Dictionary key issue.\")\n"
   ]
  },
  {
   "cell_type": "code",
   "execution_count": null,
   "id": "a45e9094",
   "metadata": {},
   "outputs": [],
   "source": []
  },
  {
   "cell_type": "code",
   "execution_count": null,
   "id": "50500b99",
   "metadata": {},
   "outputs": [],
   "source": []
  },
  {
   "cell_type": "code",
   "execution_count": null,
   "id": "8b62e9fd",
   "metadata": {},
   "outputs": [],
   "source": [
    "json_data['results']['items'][0]['attributes']"
   ]
  },
  {
   "cell_type": "code",
   "execution_count": null,
   "id": "63cf21a0",
   "metadata": {},
   "outputs": [],
   "source": [
    "json_data['results']['items'][item_no]['attributes'][1].get('name')"
   ]
  },
  {
   "cell_type": "code",
   "execution_count": null,
   "id": "f5f8f10c",
   "metadata": {},
   "outputs": [],
   "source": [
    "item_no = 0\n",
    "for key_data in json_data['results']['items'][item_no]['attributes']:\n",
    "    if key_data.get('name') == 'Name':\n",
    "        print(key_data['values'])"
   ]
  },
  {
   "cell_type": "code",
   "execution_count": null,
   "id": "ddc11e82",
   "metadata": {},
   "outputs": [],
   "source": []
  },
  {
   "cell_type": "code",
   "execution_count": null,
   "id": "c8ba0d9d",
   "metadata": {},
   "outputs": [],
   "source": []
  },
  {
   "cell_type": "markdown",
   "id": "86fb9620",
   "metadata": {},
   "source": [
    "## Blockwise"
   ]
  },
  {
   "cell_type": "code",
   "execution_count": null,
   "id": "c8e25c15",
   "metadata": {},
   "outputs": [],
   "source": [
    "import requests\n",
    "from lxml import html\n",
    "import pandas as pd\n",
    "import re\n",
    "import json\n",
    "import random\n",
    "import time\n",
    "\n",
    "# import cfscrape"
   ]
  },
  {
   "cell_type": "code",
   "execution_count": null,
   "id": "07dc9332",
   "metadata": {},
   "outputs": [],
   "source": [
    "headers = {    \n",
    "\"Accept\": \"application/json, text/plain, */*\",\n",
    "\"Accept-Encoding\": \"gzip, deflate, br\",\n",
    "\"Accept-Language\": \"en-US,en;q=0.9\",\n",
    "\"Content-Type\": \"application/json\",\n",
    "\"Host\": \"apoteket-se.54proxy.com\",\n",
    "\"Origin\": \"https://www.apoteket.se\",\n",
    "\"Referer\": \"https://www.apoteket.se/\",\n",
    "\"User-Agent\": \"Mozilla/5.0 (Windows NT 10.0; Win64; x64) AppleWebKit/537.36 (KHTML, like Gecko) Chrome/108.0.0.0 Safari/537.36\",\n",
    "\"api-version\": \"V3\",\n",
    "\"lib-version\": \"JS:1.10.143\",\n",
    "\"sec-ch-ua\": \"Not?A_Brand';v='8', 'Chromium';v='108', 'Google Chrome';v='108\",\n",
    "\"sec-ch-ua-mobile\": \"?0\",\n",
    "\"sec-ch-ua-platform\": \"Windows\",\n",
    "\"user-id\": \"1XJXY4X4rp\"\n",
    "    }"
   ]
  },
  {
   "cell_type": "code",
   "execution_count": null,
   "id": "696ea2e9",
   "metadata": {},
   "outputs": [],
   "source": [
    "# url = 'https://www.apoteket.se/sok/?q=serum&loaded=72'\n",
    "url = 'https://apoteket-se.54proxy.com/search'"
   ]
  },
  {
   "cell_type": "code",
   "execution_count": null,
   "id": "57bb7646",
   "metadata": {},
   "outputs": [],
   "source": [
    "keyword = input(\"Search product: \")\n",
    "# Temp Testing threshold\n",
    "product_threshold = 250\n",
    "\n",
    "json_payload = {\n",
    "    \"query\":f\"{keyword}\",\n",
    "    \"resultsOptions\": {\"take\": product_threshold}\n",
    "}"
   ]
  },
  {
   "cell_type": "code",
   "execution_count": null,
   "id": "feb72b68",
   "metadata": {},
   "outputs": [],
   "source": [
    "resp = requests.post(url, headers=headers, json=json_payload)\n",
    "#tree = html.fromstring(resp.text)\n",
    "resp.status_code"
   ]
  },
  {
   "cell_type": "code",
   "execution_count": null,
   "id": "cba71b54",
   "metadata": {},
   "outputs": [],
   "source": [
    "json_data = resp.json()\n",
    "len(json_data['results']['items'])"
   ]
  },
  {
   "cell_type": "code",
   "execution_count": null,
   "id": "cc5cd214",
   "metadata": {},
   "outputs": [],
   "source": [
    "final_data = []\n",
    "home_url = 'https://www.apoteket.se'\n",
    "\n",
    "for item_no in range(len(json_data['results']['items'])):\n",
    "    product_name = json_data['results']['items'][item_no]['attributes'][13]['values'][0]\n",
    "    was_price = json_data['results']['items'][item_no]['attributes'][18]['values'][0]\n",
    "    now_price = json_data['results']['items'][item_no]['attributes'][20]['values'][0]\n",
    "    product_link = home_url + json_data['results']['items'][item_no]['attributes'][16]['values'][0]\n",
    "    \n",
    "    final_data.append({\n",
    "        'product_name': product_name,\n",
    "        'was_price': was_price,\n",
    "        'now_price': now_price,\n",
    "        'product_link': product_link\n",
    "    })\n",
    "    \n",
    "pd.DataFrame(final_data)"
   ]
  },
  {
   "cell_type": "code",
   "execution_count": null,
   "id": "2b4a8e9a",
   "metadata": {},
   "outputs": [],
   "source": []
  },
  {
   "cell_type": "code",
   "execution_count": null,
   "id": "85eea73d",
   "metadata": {},
   "outputs": [],
   "source": []
  },
  {
   "cell_type": "code",
   "execution_count": null,
   "id": "7ac029ab",
   "metadata": {},
   "outputs": [],
   "source": []
  }
 ],
 "metadata": {
  "kernelspec": {
   "display_name": "Python 3 (ipykernel)",
   "language": "python",
   "name": "python3"
  },
  "language_info": {
   "codemirror_mode": {
    "name": "ipython",
    "version": 3
   },
   "file_extension": ".py",
   "mimetype": "text/x-python",
   "name": "python",
   "nbconvert_exporter": "python",
   "pygments_lexer": "ipython3",
   "version": "3.9.13"
  }
 },
 "nbformat": 4,
 "nbformat_minor": 5
}
