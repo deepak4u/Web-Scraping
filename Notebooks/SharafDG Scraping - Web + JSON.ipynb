{
 "cells": [
  {
   "cell_type": "markdown",
   "metadata": {},
   "source": [
    "# SharafDG Product Scraping along with it's seller\n",
    "\n",
    "**Overview:** In this project, I developed a web scraper using Python's Requests module to scrape complete product information from SharafDG, including data from multiple sellers. The scraper extracts more than 15 data parameters such as product title, prices, rating, description, brand, seller information , all_variants , specification, and more.\n",
    "\n",
    "To scrape product's all sellers, I used a Hardcoded URL request with the parameter product_id. seller_row is used to maintain the multiple sellers rows(number of offers). "
   ]
  },
  {
   "cell_type": "code",
   "execution_count": 1,
   "metadata": {},
   "outputs": [],
   "source": [
    "import requests\n",
    "from lxml import html\n",
    "import pandas as pd\n",
    "import re\n",
    "import json\n",
    "from datetime import datetime"
   ]
  },
  {
   "cell_type": "code",
   "execution_count": 3,
   "metadata": {},
   "outputs": [],
   "source": [
    "headers = {\n",
    "        'user-agent': 'Mozilla/5.0 (Windows NT 10.0; Win64; x64) AppleWebKit/537.36 (KHTML, like Gecko) Chrome/112.0.0.0 Safari/537.36'\n",
    "    }\n",
    "\n",
    "# Out of stock product\n",
    "# url = 'https://uae.sharafdg.com/product/eklasse-nose-trimmer-eknt02/?snrai_campaign=DEkCc0OoMLQw&snrai_id=96f50ef2-fea1-4545-aec3-e5eb50936179'\n",
    "# url = 'https://uae.sharafdg.com/product/braun-beard-trimmer-bt3040/?promo=1475238'\n",
    "# stripe price\n",
    "# url = 'https://uae.sharafdg.com/product/braun-beard-trimmer-bt3040/?promo=1748959'\n",
    "url = 'https://uae.sharafdg.com/product/iphone-12-pro-256gb-pacific-blue/'\n",
    "url = 'https://uae.sharafdg.com/product/apple-iphone-14-pro-max-256gb-deep-purple-middle-east-version/'"
   ]
  },
  {
   "cell_type": "code",
   "execution_count": 4,
   "metadata": {},
   "outputs": [
    {
     "data": {
      "text/plain": [
       "200"
      ]
     },
     "execution_count": 4,
     "metadata": {},
     "output_type": "execute_result"
    }
   ],
   "source": [
    "# Product page request\n",
    "res = requests.get(url, headers=headers)\n",
    "tree = html.fromstring(res.content)\n",
    "res.status_code"
   ]
  },
  {
   "cell_type": "code",
   "execution_count": null,
   "metadata": {},
   "outputs": [],
   "source": []
  },
  {
   "cell_type": "code",
   "execution_count": 5,
   "metadata": {},
   "outputs": [
    {
     "name": "stdout",
     "output_type": "stream",
     "text": [
      "Brand:  Apple\n"
     ]
    }
   ],
   "source": [
    "def brand():\n",
    "    brand = tree.xpath(\"//div[contains(@class, 'fw-800 w-30') and contains(text(), 'Brand')]//following::div[contains(@class, 'w-60')]/text()\")\n",
    "    \n",
    "    if brand:\n",
    "        brand = brand[0].strip()\n",
    "    else:\n",
    "        brand = ''\n",
    "    return brand\n",
    "\n",
    "\n",
    "print(\"Brand: \", brand())"
   ]
  },
  {
   "cell_type": "code",
   "execution_count": 6,
   "metadata": {},
   "outputs": [
    {
     "name": "stdout",
     "output_type": "stream",
     "text": [
      "Category Breadcrumbs:  Online Shopping > Mobiles & Tablets > Mobiles\n"
     ]
    }
   ],
   "source": [
    "def category_breadcrumbs():\n",
    "    category = tree.xpath('//div[(@class=\"breadcrumb\")]//span[(@itemprop=\"name\")]/text()')\n",
    "    if category:\n",
    "        # category = '>'.join([str(x) for x in category])\n",
    "        # category = category.replace(',', '')\n",
    "        # Remove last Breadcurmb (product name)\n",
    "        category.pop()\n",
    "        category = ' > '.join(category)\n",
    "    else:\n",
    "        category = ''\n",
    "    return category\n",
    "\n",
    "print(\"Category Breadcrumbs: \", category_breadcrumbs())"
   ]
  },
  {
   "cell_type": "code",
   "execution_count": 7,
   "metadata": {},
   "outputs": [
    {
     "name": "stdout",
     "output_type": "stream",
     "text": [
      "Product Rating:  4.5\n"
     ]
    }
   ],
   "source": [
    "def product_rating():\n",
    "    product_rating_xp = tree.xpath(\"//div[contains(@class, 'product_summary__block')]//span[@itemprop='ratingValue']/text()\")\n",
    "    product_rating = ''\n",
    "    if product_rating_xp:\n",
    "        # '4.1 out of 5 stars'\n",
    "        product_rating = re.sub(\"[^0-9.]+\", '', product_rating_xp[0].split()[0])\n",
    "\n",
    "    return product_rating\n",
    "\n",
    "print(\"Product Rating: \", product_rating())"
   ]
  },
  {
   "cell_type": "code",
   "execution_count": 8,
   "metadata": {},
   "outputs": [
    {
     "name": "stdout",
     "output_type": "stream",
     "text": [
      "Product Review:  1915\n"
     ]
    }
   ],
   "source": [
    "def product_reviews():\n",
    "    product_review_xp = tree.xpath(\"//div[contains(@class, 'product_summary__block')]//span[@itemprop='reviewCount']/text()\")\n",
    "    product_review = ''\n",
    "    if product_review_xp:\n",
    "        #product_review = product_review_xp[0].strip().replace('ratings','').replace('rating','')\n",
    "        product_review = re.sub(\"[^0-9]+\", '', product_review_xp[0])\n",
    "\n",
    "    return product_review\n",
    "\n",
    "print(\"Product Review: \", product_reviews())"
   ]
  },
  {
   "cell_type": "code",
   "execution_count": 9,
   "metadata": {},
   "outputs": [
    {
     "name": "stdout",
     "output_type": "stream",
     "text": [
      "Selected Variants:  Deep Purple || 256 GB || Middle East Version\n"
     ]
    }
   ],
   "source": [
    "def selected_variant():\n",
    "    # Selected Variant xpath\n",
    "    selected_variant_xp1 = tree.xpath(\"//div[@class='variants clearfix']//strong[@class='current-variant']/text()\")\n",
    "    \n",
    "    if selected_variant_xp1:\n",
    "        selected_variant = ' || '.join(list(map(lambda x: x.strip(), selected_variant_xp1)))\n",
    "        \n",
    "    return selected_variant\n",
    "\n",
    "print(\"Selected Variants: \", selected_variant())"
   ]
  },
  {
   "cell_type": "code",
   "execution_count": 10,
   "metadata": {},
   "outputs": [
    {
     "name": "stdout",
     "output_type": "stream",
     "text": [
      "All Variants:  Deep Purple || 256 GB || Middle East VersionSilver || Gold || Space Black || 128 GB || 512 GB || 1 TB || Physical Dual Sim Version || International Version || USA Version\n"
     ]
    }
   ],
   "source": [
    "def all_variants():\n",
    "    all_variants = ''\n",
    "    \n",
    "    # Other variants\n",
    "    other_variant_xp1 = tree.xpath(\"//div[contains(@class, 'variant')]//a[contains(@class, 'variant')]/@data-value\")\n",
    "    \n",
    "    if other_variant_xp1:\n",
    "        other_variant_list = [x.strip() for x in other_variant_xp1]\n",
    "    else:\n",
    "        other_variant_list = []\n",
    "        \n",
    "    if other_variant_list:\n",
    "        all_variants = selected_variant() + ' || '.join(list(map(lambda x: x.strip(), other_variant_list)))\n",
    "    \n",
    "    return all_variants\n",
    "\n",
    "print(\"All Variants: \", all_variants())"
   ]
  },
  {
   "cell_type": "code",
   "execution_count": 11,
   "metadata": {},
   "outputs": [
    {
     "name": "stdout",
     "output_type": "stream",
     "text": [
      "Specification:  {'Brand': 'Apple', 'Color': 'Deep Purple', 'Delivery Protocol': 'Activation is mandatory at the time of delivery for purchase completion', 'Model Number': 'MQ9X3AA/A', 'Version': 'Middle East Version', 'OS': 'iOS', 'OS Version': 'iOS 16', 'Sim Slot': 'Dual Sim (E-Sim + Sim Slot)', 'Technology': '5G', 'SIM Card': 'Nano-SIM', 'Screen Size': '6.7 INCH', 'Resolution': '2796 x 1290', 'Type': 'Super Retina XDR display', 'Multitouch': 'Yes', 'Protection': 'Fingerprint-resistant oleophobic coating', 'Chipset': 'A16 Bionic chip', 'CPU': '6‑core', 'CPU Details': '6‑core CPU with 2 performance and 4 efficiency cores', 'GPU': '5‑core GPU', 'Sensors': 'Face ID, LiDAR Scanner, Barometer, High dynamic range gyro, High-g accelerometer, Proximity sensor, Dual ambient light sensors', 'Internal Memory': '256 GIGABYTE', 'Card slot': 'No', 'Rear / Front Camera': '48 + 12 + 12 MP / 12 MP', 'Video Resolution': '4K@24/25/30/60fps, 1080p@25/30/60/120/240fps, 10-bit HDR, Dolby Vision HDR (up to 60fps), ProRes, Cinematic mode (4K@30fps), stereo sound rec.', 'Features': 'Dual-LED dual-tone flash, HDR (photo/panorama)', 'Loudspeaker': 'Spatial Audio playback', '3.5mm jack': 'No', 'WiFi Type': 'Wi-Fi 6 (802.11ax) with 2x2 MIMO', 'Bluetooth': 'Bluetooth 5.3', 'NFC': 'NFC with reader mode', 'USB': 'Lightning', 'GPS': 'Precision dual-frequency GPS (GPS, GLONASS, Galileo, QZSS, and BeiDou)', 'Battery Capacity': 'Up to 29 hours', 'Battery Type': 'Built‑in rechargeable lithium‑ion battery', 'Dimensions': '160.7 x 77.6 x 7.85 mm', 'Weight': '240 GRAM'}\n"
     ]
    }
   ],
   "source": [
    "def specification():\n",
    "    specification_th_xp = tree.xpath(\"//div[@class='fw-800 w-30']/text()\")\n",
    "    specification_td_xp = tree.xpath(\"//div[@class='w-60']/text()\")\n",
    "\n",
    "    specification = {}\n",
    "    if len(specification_th_xp)  == len(specification_td_xp):\n",
    "        for item_header, item_data  in zip(specification_th_xp,specification_td_xp):\n",
    "            specification_th_key = item_header.strip()\n",
    "            specification_td_value = item_data.strip()\n",
    "\n",
    "            specification[specification_th_key] = specification_td_value\n",
    "\n",
    "    return specification\n",
    "\n",
    "print(\"Specification: \", specification())"
   ]
  },
  {
   "cell_type": "code",
   "execution_count": 12,
   "metadata": {},
   "outputs": [
    {
     "name": "stdout",
     "output_type": "stream",
     "text": [
      "Product Id:  4062388\n"
     ]
    }
   ],
   "source": [
    "def product_id():\n",
    "    ''' Get the product id for json API data '''\n",
    "    product_id_xp1 = tree.xpath(\"//link[@rel='shortlink']/@href\")\n",
    "    product_id = \"\"\n",
    "    \n",
    "    if product_id_xp1:\n",
    "        product_id = int(product_id_xp1[0].split(\"p=\",1)[1])\n",
    "    \n",
    "    return product_id\n",
    "\n",
    "print(\"Product Id: \", product_id())\n",
    "\n",
    "def seller_json_request():\n",
    "    ''' Return: dictionary of product JSON data '''\n",
    "    \n",
    "    params = {\n",
    "    'id': product_id(),\n",
    "    'dgmember': 'false',\n",
    "    }\n",
    "    \n",
    "    if product_id:\n",
    "        # JSON data request for product sellers \n",
    "        seller_url = f'https://uae.sharafdg.com/wp-json/sdg/v1/promo'\n",
    "        seller_res = requests.get(seller_url, headers=headers, params=params)\n",
    "        \n",
    "        if seller_res.status_code == 200:\n",
    "            return json.loads(seller_res.content)\n",
    "        \n",
    "    return None "
   ]
  },
  {
   "cell_type": "code",
   "execution_count": 13,
   "metadata": {},
   "outputs": [],
   "source": [
    "product_data = []\n",
    "product_json_data = seller_json_request()\n",
    "\n",
    "for row in range(len(product_json_data)):\n",
    "    name = product_json_data[row]['name']\n",
    "    url = product_json_data[row]['url'].replace('//', '')\n",
    "    seller_id = product_json_data[row]['id']\n",
    "    product_id = product_json_data[row]['product_id']\n",
    "\n",
    "    new_price = product_json_data[row]['price']\n",
    "    old_price = product_json_data[row]['crossprice']\n",
    "    currency = product_json_data[row]['currency']\n",
    "    warranty = product_json_data[row]['warranty']\n",
    "    image_urls = ' || '.join(product_json_data[row]['image'])\n",
    "    seller_name = product_json_data[row]['seller-name']\n",
    "    delivery_time = product_json_data[row]['delivery']['delivery_time']\n",
    "    desc = product_json_data[row]['desc']\n",
    "    shipping_fee = product_json_data[row]['shipping_fee']['shipping_fee_min']\n",
    "    \n",
    "    product_data.append({\n",
    "        'name' : name,\n",
    "        'url' : url,\n",
    "        'seller_id' : seller_id,\n",
    "        'product_id' : product_id,\n",
    "        'new_price' : new_price,\n",
    "        'old_price' : old_price,\n",
    "        'currency' : currency,\n",
    "        'warranty' : warranty,\n",
    "        'image_urls': image_urls,\n",
    "        'seller_name' : seller_name,\n",
    "        'delivery_time' : delivery_time,\n",
    "        'desc' : desc,\n",
    "        'shipping_fee': shipping_fee,\n",
    "        'brand': brand(),\n",
    "        'category_breadcrumbs': category_breadcrumbs(),\n",
    "        'product_rating': product_rating(),\n",
    "        'product_reviews': product_reviews(),\n",
    "        'selected_variant': selected_variant(),\n",
    "        'all_variants': all_variants(),\n",
    "        'specification': specification(),\n",
    "    })"
   ]
  },
  {
   "cell_type": "code",
   "execution_count": 14,
   "metadata": {},
   "outputs": [
    {
     "data": {
      "text/html": [
       "<div>\n",
       "<style scoped>\n",
       "    .dataframe tbody tr th:only-of-type {\n",
       "        vertical-align: middle;\n",
       "    }\n",
       "\n",
       "    .dataframe tbody tr th {\n",
       "        vertical-align: top;\n",
       "    }\n",
       "\n",
       "    .dataframe thead th {\n",
       "        text-align: right;\n",
       "    }\n",
       "</style>\n",
       "<table border=\"1\" class=\"dataframe\">\n",
       "  <thead>\n",
       "    <tr style=\"text-align: right;\">\n",
       "      <th></th>\n",
       "      <th>name</th>\n",
       "      <th>url</th>\n",
       "      <th>seller_id</th>\n",
       "      <th>product_id</th>\n",
       "      <th>new_price</th>\n",
       "      <th>old_price</th>\n",
       "      <th>currency</th>\n",
       "      <th>warranty</th>\n",
       "      <th>image_urls</th>\n",
       "      <th>seller_name</th>\n",
       "      <th>delivery_time</th>\n",
       "      <th>desc</th>\n",
       "      <th>shipping_fee</th>\n",
       "      <th>brand</th>\n",
       "      <th>category_breadcrumbs</th>\n",
       "      <th>product_rating</th>\n",
       "      <th>product_reviews</th>\n",
       "      <th>selected_variant</th>\n",
       "      <th>all_variants</th>\n",
       "      <th>specification</th>\n",
       "    </tr>\n",
       "  </thead>\n",
       "  <tbody>\n",
       "    <tr>\n",
       "      <th>0</th>\n",
       "      <td>Apple iPhone 14 Pro Max 256GB Deep Purple with...</td>\n",
       "      <td>uae.sharafdg.com/product/apple-iphone-14-pro-m...</td>\n",
       "      <td>2913110</td>\n",
       "      <td>4062388</td>\n",
       "      <td>4,699.00</td>\n",
       "      <td>5,099.00</td>\n",
       "      <td>AED</td>\n",
       "      <td>Warranty 1 Year</td>\n",
       "      <td>https://cdn.sharafdg.com/cdn-cgi/image/width=9...</td>\n",
       "      <td>Sharaf DG</td>\n",
       "      <td>24 April</td>\n",
       "      <td></td>\n",
       "      <td>14</td>\n",
       "      <td>Apple</td>\n",
       "      <td>Online Shopping &gt; Mobiles &amp; Tablets &gt; Mobiles</td>\n",
       "      <td>4.5</td>\n",
       "      <td>1915</td>\n",
       "      <td>Deep Purple || 256 GB || Middle East Version</td>\n",
       "      <td>Deep Purple || 256 GB || Middle East VersionSi...</td>\n",
       "      <td>{'Brand': 'Apple', 'Color': 'Deep Purple', 'De...</td>\n",
       "    </tr>\n",
       "    <tr>\n",
       "      <th>1</th>\n",
       "      <td>Apple iPhone 14 Pro Max 256GB Deep Purple with...</td>\n",
       "      <td>uae.sharafdg.com/product/apple-iphone-14-pro-m...</td>\n",
       "      <td>2845764</td>\n",
       "      <td>4062388</td>\n",
       "      <td>4,761.00</td>\n",
       "      <td>5,099.00</td>\n",
       "      <td>AED</td>\n",
       "      <td>Warranty One Year Warranty</td>\n",
       "      <td>https://cdn.sharafdg.com/cdn-cgi/image/width=9...</td>\n",
       "      <td>SE LLC</td>\n",
       "      <td>24 April</td>\n",
       "      <td>UAE Authorized Product With 1 Year Brand Warra...</td>\n",
       "      <td>14</td>\n",
       "      <td>Apple</td>\n",
       "      <td>Online Shopping &gt; Mobiles &amp; Tablets &gt; Mobiles</td>\n",
       "      <td>4.5</td>\n",
       "      <td>1915</td>\n",
       "      <td>Deep Purple || 256 GB || Middle East Version</td>\n",
       "      <td>Deep Purple || 256 GB || Middle East VersionSi...</td>\n",
       "      <td>{'Brand': 'Apple', 'Color': 'Deep Purple', 'De...</td>\n",
       "    </tr>\n",
       "    <tr>\n",
       "      <th>2</th>\n",
       "      <td>Apple iPhone 14 Pro Max 256GB Deep Purple with...</td>\n",
       "      <td>uae.sharafdg.com/product/apple-iphone-14-pro-m...</td>\n",
       "      <td>2847655</td>\n",
       "      <td>4062388</td>\n",
       "      <td>4,761.00</td>\n",
       "      <td>5,099.00</td>\n",
       "      <td>AED</td>\n",
       "      <td>Warranty One Year Warranty</td>\n",
       "      <td>https://cdn.sharafdg.com/cdn-cgi/image/width=9...</td>\n",
       "      <td>SE LLC</td>\n",
       "      <td>26 Apr - 27 Apr</td>\n",
       "      <td>UAE Authorized Product With 1 Year Brand Warra...</td>\n",
       "      <td>13</td>\n",
       "      <td>Apple</td>\n",
       "      <td>Online Shopping &gt; Mobiles &amp; Tablets &gt; Mobiles</td>\n",
       "      <td>4.5</td>\n",
       "      <td>1915</td>\n",
       "      <td>Deep Purple || 256 GB || Middle East Version</td>\n",
       "      <td>Deep Purple || 256 GB || Middle East VersionSi...</td>\n",
       "      <td>{'Brand': 'Apple', 'Color': 'Deep Purple', 'De...</td>\n",
       "    </tr>\n",
       "    <tr>\n",
       "      <th>3</th>\n",
       "      <td>Apple iPhone 14 Pro Max 256GB Deep Purple with...</td>\n",
       "      <td>uae.sharafdg.com/product/apple-iphone-14-pro-m...</td>\n",
       "      <td>2806216</td>\n",
       "      <td>4062388</td>\n",
       "      <td>4,889.00</td>\n",
       "      <td>5,099.00</td>\n",
       "      <td>AED</td>\n",
       "      <td>Warranty One Year Warranty</td>\n",
       "      <td>https://cdn.sharafdg.com/cdn-cgi/image/width=9...</td>\n",
       "      <td>PAPITA</td>\n",
       "      <td>26 Apr - 27 Apr</td>\n",
       "      <td>Why you should buy from us: Best Price Genuine...</td>\n",
       "      <td>13</td>\n",
       "      <td>Apple</td>\n",
       "      <td>Online Shopping &gt; Mobiles &amp; Tablets &gt; Mobiles</td>\n",
       "      <td>4.5</td>\n",
       "      <td>1915</td>\n",
       "      <td>Deep Purple || 256 GB || Middle East Version</td>\n",
       "      <td>Deep Purple || 256 GB || Middle East VersionSi...</td>\n",
       "      <td>{'Brand': 'Apple', 'Color': 'Deep Purple', 'De...</td>\n",
       "    </tr>\n",
       "    <tr>\n",
       "      <th>4</th>\n",
       "      <td>Apple iPhone 14 Pro Max 256GB Deep Purple with...</td>\n",
       "      <td>uae.sharafdg.com/product/apple-iphone-14-pro-m...</td>\n",
       "      <td>2837569</td>\n",
       "      <td>4062388</td>\n",
       "      <td>4,898.00</td>\n",
       "      <td>5,099.00</td>\n",
       "      <td>AED</td>\n",
       "      <td>Warranty One Year Warranty</td>\n",
       "      <td>https://cdn.sharafdg.com/cdn-cgi/image/width=9...</td>\n",
       "      <td>GOLDEN EYE ELECTRONICS</td>\n",
       "      <td>27 Apr - 28 Apr</td>\n",
       "      <td>OFFICIAL UAE TRA VERSION - 1-YEAR APPLE WARRANTY</td>\n",
       "      <td>13</td>\n",
       "      <td>Apple</td>\n",
       "      <td>Online Shopping &gt; Mobiles &amp; Tablets &gt; Mobiles</td>\n",
       "      <td>4.5</td>\n",
       "      <td>1915</td>\n",
       "      <td>Deep Purple || 256 GB || Middle East Version</td>\n",
       "      <td>Deep Purple || 256 GB || Middle East VersionSi...</td>\n",
       "      <td>{'Brand': 'Apple', 'Color': 'Deep Purple', 'De...</td>\n",
       "    </tr>\n",
       "    <tr>\n",
       "      <th>5</th>\n",
       "      <td>Apple iPhone 14 Pro Max 256GB Deep Purple with...</td>\n",
       "      <td>uae.sharafdg.com/product/apple-iphone-14-pro-m...</td>\n",
       "      <td>2800457</td>\n",
       "      <td>4062388</td>\n",
       "      <td>4,899.00</td>\n",
       "      <td>5,099.00</td>\n",
       "      <td>AED</td>\n",
       "      <td>Warranty One Year Warranty</td>\n",
       "      <td>https://cdn.sharafdg.com/cdn-cgi/image/width=9...</td>\n",
       "      <td>Planet Telecom</td>\n",
       "      <td>26 Apr - 27 Apr</td>\n",
       "      <td>1 YEAR WARRANTY - TRA STOCK - FAST SHIPPING</td>\n",
       "      <td>13</td>\n",
       "      <td>Apple</td>\n",
       "      <td>Online Shopping &gt; Mobiles &amp; Tablets &gt; Mobiles</td>\n",
       "      <td>4.5</td>\n",
       "      <td>1915</td>\n",
       "      <td>Deep Purple || 256 GB || Middle East Version</td>\n",
       "      <td>Deep Purple || 256 GB || Middle East VersionSi...</td>\n",
       "      <td>{'Brand': 'Apple', 'Color': 'Deep Purple', 'De...</td>\n",
       "    </tr>\n",
       "    <tr>\n",
       "      <th>6</th>\n",
       "      <td>Apple iPhone 14 Pro Max 256GB Deep Purple with...</td>\n",
       "      <td>uae.sharafdg.com/product/apple-iphone-14-pro-m...</td>\n",
       "      <td>2912576</td>\n",
       "      <td>4062388</td>\n",
       "      <td>4,949.00</td>\n",
       "      <td>5,099.00</td>\n",
       "      <td>AED</td>\n",
       "      <td>Warranty One Year Warranty</td>\n",
       "      <td>https://cdn.sharafdg.com/cdn-cgi/image/width=9...</td>\n",
       "      <td>O2 Trading</td>\n",
       "      <td>27 Apr - 28 Apr</td>\n",
       "      <td></td>\n",
       "      <td>13</td>\n",
       "      <td>Apple</td>\n",
       "      <td>Online Shopping &gt; Mobiles &amp; Tablets &gt; Mobiles</td>\n",
       "      <td>4.5</td>\n",
       "      <td>1915</td>\n",
       "      <td>Deep Purple || 256 GB || Middle East Version</td>\n",
       "      <td>Deep Purple || 256 GB || Middle East VersionSi...</td>\n",
       "      <td>{'Brand': 'Apple', 'Color': 'Deep Purple', 'De...</td>\n",
       "    </tr>\n",
       "  </tbody>\n",
       "</table>\n",
       "</div>"
      ],
      "text/plain": [
       "                                                name  \\\n",
       "0  Apple iPhone 14 Pro Max 256GB Deep Purple with...   \n",
       "1  Apple iPhone 14 Pro Max 256GB Deep Purple with...   \n",
       "2  Apple iPhone 14 Pro Max 256GB Deep Purple with...   \n",
       "3  Apple iPhone 14 Pro Max 256GB Deep Purple with...   \n",
       "4  Apple iPhone 14 Pro Max 256GB Deep Purple with...   \n",
       "5  Apple iPhone 14 Pro Max 256GB Deep Purple with...   \n",
       "6  Apple iPhone 14 Pro Max 256GB Deep Purple with...   \n",
       "\n",
       "                                                 url seller_id product_id  \\\n",
       "0  uae.sharafdg.com/product/apple-iphone-14-pro-m...   2913110    4062388   \n",
       "1  uae.sharafdg.com/product/apple-iphone-14-pro-m...   2845764    4062388   \n",
       "2  uae.sharafdg.com/product/apple-iphone-14-pro-m...   2847655    4062388   \n",
       "3  uae.sharafdg.com/product/apple-iphone-14-pro-m...   2806216    4062388   \n",
       "4  uae.sharafdg.com/product/apple-iphone-14-pro-m...   2837569    4062388   \n",
       "5  uae.sharafdg.com/product/apple-iphone-14-pro-m...   2800457    4062388   \n",
       "6  uae.sharafdg.com/product/apple-iphone-14-pro-m...   2912576    4062388   \n",
       "\n",
       "  new_price old_price currency                    warranty  \\\n",
       "0  4,699.00  5,099.00     AED              Warranty 1 Year   \n",
       "1  4,761.00  5,099.00     AED   Warranty One Year Warranty   \n",
       "2  4,761.00  5,099.00     AED   Warranty One Year Warranty   \n",
       "3  4,889.00  5,099.00     AED   Warranty One Year Warranty   \n",
       "4  4,898.00  5,099.00     AED   Warranty One Year Warranty   \n",
       "5  4,899.00  5,099.00     AED   Warranty One Year Warranty   \n",
       "6  4,949.00  5,099.00     AED   Warranty One Year Warranty   \n",
       "\n",
       "                                          image_urls             seller_name  \\\n",
       "0  https://cdn.sharafdg.com/cdn-cgi/image/width=9...               Sharaf DG   \n",
       "1  https://cdn.sharafdg.com/cdn-cgi/image/width=9...                  SE LLC   \n",
       "2  https://cdn.sharafdg.com/cdn-cgi/image/width=9...                  SE LLC   \n",
       "3  https://cdn.sharafdg.com/cdn-cgi/image/width=9...                  PAPITA   \n",
       "4  https://cdn.sharafdg.com/cdn-cgi/image/width=9...  GOLDEN EYE ELECTRONICS   \n",
       "5  https://cdn.sharafdg.com/cdn-cgi/image/width=9...          Planet Telecom   \n",
       "6  https://cdn.sharafdg.com/cdn-cgi/image/width=9...              O2 Trading   \n",
       "\n",
       "     delivery_time                                               desc  \\\n",
       "0         24 April                                                      \n",
       "1         24 April  UAE Authorized Product With 1 Year Brand Warra...   \n",
       "2  26 Apr - 27 Apr  UAE Authorized Product With 1 Year Brand Warra...   \n",
       "3  26 Apr - 27 Apr  Why you should buy from us: Best Price Genuine...   \n",
       "4  27 Apr - 28 Apr   OFFICIAL UAE TRA VERSION - 1-YEAR APPLE WARRANTY   \n",
       "5  26 Apr - 27 Apr        1 YEAR WARRANTY - TRA STOCK - FAST SHIPPING   \n",
       "6  27 Apr - 28 Apr                                                      \n",
       "\n",
       "  shipping_fee  brand                           category_breadcrumbs  \\\n",
       "0           14  Apple  Online Shopping > Mobiles & Tablets > Mobiles   \n",
       "1           14  Apple  Online Shopping > Mobiles & Tablets > Mobiles   \n",
       "2           13  Apple  Online Shopping > Mobiles & Tablets > Mobiles   \n",
       "3           13  Apple  Online Shopping > Mobiles & Tablets > Mobiles   \n",
       "4           13  Apple  Online Shopping > Mobiles & Tablets > Mobiles   \n",
       "5           13  Apple  Online Shopping > Mobiles & Tablets > Mobiles   \n",
       "6           13  Apple  Online Shopping > Mobiles & Tablets > Mobiles   \n",
       "\n",
       "  product_rating product_reviews  \\\n",
       "0            4.5            1915   \n",
       "1            4.5            1915   \n",
       "2            4.5            1915   \n",
       "3            4.5            1915   \n",
       "4            4.5            1915   \n",
       "5            4.5            1915   \n",
       "6            4.5            1915   \n",
       "\n",
       "                               selected_variant  \\\n",
       "0  Deep Purple || 256 GB || Middle East Version   \n",
       "1  Deep Purple || 256 GB || Middle East Version   \n",
       "2  Deep Purple || 256 GB || Middle East Version   \n",
       "3  Deep Purple || 256 GB || Middle East Version   \n",
       "4  Deep Purple || 256 GB || Middle East Version   \n",
       "5  Deep Purple || 256 GB || Middle East Version   \n",
       "6  Deep Purple || 256 GB || Middle East Version   \n",
       "\n",
       "                                        all_variants  \\\n",
       "0  Deep Purple || 256 GB || Middle East VersionSi...   \n",
       "1  Deep Purple || 256 GB || Middle East VersionSi...   \n",
       "2  Deep Purple || 256 GB || Middle East VersionSi...   \n",
       "3  Deep Purple || 256 GB || Middle East VersionSi...   \n",
       "4  Deep Purple || 256 GB || Middle East VersionSi...   \n",
       "5  Deep Purple || 256 GB || Middle East VersionSi...   \n",
       "6  Deep Purple || 256 GB || Middle East VersionSi...   \n",
       "\n",
       "                                       specification  \n",
       "0  {'Brand': 'Apple', 'Color': 'Deep Purple', 'De...  \n",
       "1  {'Brand': 'Apple', 'Color': 'Deep Purple', 'De...  \n",
       "2  {'Brand': 'Apple', 'Color': 'Deep Purple', 'De...  \n",
       "3  {'Brand': 'Apple', 'Color': 'Deep Purple', 'De...  \n",
       "4  {'Brand': 'Apple', 'Color': 'Deep Purple', 'De...  \n",
       "5  {'Brand': 'Apple', 'Color': 'Deep Purple', 'De...  \n",
       "6  {'Brand': 'Apple', 'Color': 'Deep Purple', 'De...  "
      ]
     },
     "execution_count": 14,
     "metadata": {},
     "output_type": "execute_result"
    }
   ],
   "source": [
    "pd.DataFrame(product_data)"
   ]
  },
  {
   "cell_type": "code",
   "execution_count": null,
   "metadata": {},
   "outputs": [],
   "source": []
  },
  {
   "cell_type": "code",
   "execution_count": null,
   "metadata": {},
   "outputs": [],
   "source": []
  },
  {
   "cell_type": "code",
   "execution_count": null,
   "metadata": {},
   "outputs": [],
   "source": []
  },
  {
   "cell_type": "code",
   "execution_count": null,
   "metadata": {},
   "outputs": [],
   "source": []
  },
  {
   "cell_type": "code",
   "execution_count": null,
   "metadata": {},
   "outputs": [],
   "source": []
  },
  {
   "cell_type": "code",
   "execution_count": null,
   "metadata": {},
   "outputs": [],
   "source": []
  },
  {
   "cell_type": "markdown",
   "metadata": {},
   "source": [
    "# Block Testing"
   ]
  },
  {
   "cell_type": "code",
   "execution_count": null,
   "metadata": {},
   "outputs": [],
   "source": [
    "params = {\n",
    "    'id': product_id(),\n",
    "    'dgmember': 'false',\n",
    "}"
   ]
  },
  {
   "cell_type": "code",
   "execution_count": null,
   "metadata": {},
   "outputs": [],
   "source": [
    "# JSON data request for product sellers \n",
    "seller_url = f'https://uae.sharafdg.com/wp-json/sdg/v1/promo'\n",
    "seller_res = requests.get(seller_url, headers=headers, params=params)\n",
    "seller_res.status_code"
   ]
  },
  {
   "cell_type": "code",
   "execution_count": null,
   "metadata": {},
   "outputs": [],
   "source": [
    "# Convert dict to string\n",
    "# product_json_data = json.dumps(product_json_data)\n",
    "\n",
    "# Convert data to dict\n",
    "product_json_data = json.loads(seller_res.content)\n",
    "product_json_data"
   ]
  },
  {
   "cell_type": "code",
   "execution_count": null,
   "metadata": {},
   "outputs": [],
   "source": [
    "def extract_date():\n",
    "    # For Timezone - import pytz library\n",
    "    # time_now = datetime.datetime.now(tz=pytz.timezone('Asia/Dubai'))\n",
    "    return datetime.now().strftime('%Y-%m-%d %H:%M:%S')\n",
    "\n",
    "print(\"Extract Date: \", extract_date())"
   ]
  },
  {
   "cell_type": "code",
   "execution_count": null,
   "metadata": {},
   "outputs": [],
   "source": [
    "def product_name():\n",
    "    product_name_xp1 = tree.xpath(\"//div[contains(@class, 'product_summary__block')]//h1[@class='product_title entry-title']/text()\")\n",
    "    \n",
    "    product_name = ''\n",
    "    if product_name_xp1:\n",
    "        product_name = product_name_xp1[0].strip()\n",
    "    \n",
    "    return product_name\n",
    "\n",
    "product_name()"
   ]
  },
  {
   "cell_type": "code",
   "execution_count": null,
   "metadata": {},
   "outputs": [],
   "source": [
    "seller_row = 0"
   ]
  },
  {
   "cell_type": "code",
   "execution_count": null,
   "metadata": {},
   "outputs": [],
   "source": [
    "def number_of_offers():\n",
    "    buybox_button_seller_id = tree.xpath(\"//div[@class='product-cart__wrapper']//button[contains(@class, 'add_to_cart_button') or contains(@class, 'ajax_add_to_cart')]/@data-promo_id\")\n",
    "    button_OutOfStock = tree.xpath(\"//div[(@class='pdp-price-cart')]//p[(@id='out-of-stock-box')]\")\n",
    "    number_of_offers_xp = tree.xpath('//div[(@class=\"more-offer-icons pdp-icon\")]//a[contains(@class, \"more-offers\")]/text()')\n",
    "\n",
    "    number_of_offers = '0'\n",
    "    if buybox_button_seller_id and number_of_offers_xp:\n",
    "        buybox_button_seller_id = int(buybox_button_seller_id[0].strip())\n",
    "        if product_json_data:\n",
    "            seller_product_id = product_json_data[seller_row]['id']\n",
    "            seller_product_id = int(seller_product_id)\n",
    "            # Check Buybox button seller id matches with json seller data id\n",
    "            if buybox_button_seller_id == seller_product_id:\n",
    "                # Converted to string, split and take 1st value from list\n",
    "                number_of_offers_xp = number_of_offers_xp[0].split()\n",
    "                number_of_offers_xp = number_of_offers_xp[0].strip()\n",
    "                number_of_offers = number_of_offers_xp\n",
    "    elif button_OutOfStock:\n",
    "        number_of_offers = '0'\n",
    "\n",
    "    return number_of_offers\n",
    "\n",
    "print(\"Number of offers: \", number_of_offers())"
   ]
  },
  {
   "cell_type": "code",
   "execution_count": null,
   "metadata": {},
   "outputs": [],
   "source": []
  },
  {
   "cell_type": "code",
   "execution_count": null,
   "metadata": {},
   "outputs": [],
   "source": []
  }
 ],
 "metadata": {
  "kernelspec": {
   "display_name": "Python 3 (ipykernel)",
   "language": "python",
   "name": "python3"
  },
  "language_info": {
   "codemirror_mode": {
    "name": "ipython",
    "version": 3
   },
   "file_extension": ".py",
   "mimetype": "text/x-python",
   "name": "python",
   "nbconvert_exporter": "python",
   "pygments_lexer": "ipython3",
   "version": "3.9.13"
  }
 },
 "nbformat": 4,
 "nbformat_minor": 2
}
