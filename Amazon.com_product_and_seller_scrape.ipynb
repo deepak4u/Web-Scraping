{
 "cells": [
  {
   "cell_type": "code",
   "execution_count": 3,
   "id": "2fc025b1",
   "metadata": {},
   "outputs": [],
   "source": [
    "import requests\n",
    "from lxml import html\n",
    "import pandas as pd\n",
    "import re\n",
    "import json\n",
    "import time\n",
    "import random"
   ]
  },
  {
   "cell_type": "code",
   "execution_count": 4,
   "id": "407f5f84",
   "metadata": {},
   "outputs": [],
   "source": [
    "headers = {\n",
    "        'user-agent': 'Mozilla/5.0 (Windows NT 6.1; Win64; x64) AppleWebKit/537.36 (KHTML, like Gecko) Chrome/89.0.4389.90 Safari/537.36'\n",
    "    }\n",
    "\n",
    "seller_page_headers = {\n",
    "        'user-agent': 'Mozilla/5.0 (Windows NT 6.1; Win64; x64) AppleWebKit/537.36 (KHTML, like Gecko) Chrome/89.0.4389.90 Safari/537.36'\n",
    "    }\n",
    "\n",
    "seller_page_cookies = {\n",
    "    'session-id' : '258-5942643-6431100',\n",
    "    'i18n-prefs' : 'AED', \n",
    "    'ubid-acbae' : '259-8396416-4598938', \n",
    "    'session-token' : 'nzVs4t7q05a46vkJMc59s2WjN6JCZv5DI5x99owvyYTJcInd1BwEsBDNjk4T18Wenb786o+CXsciaSQPIxoWCBJXOdxxroZmpIQynzVhWKcl/Ru48Ox0Pp6IpUgK6BYd+CvAzlYMx8ZbhGaIsV4rtpc5lEaURwUEOd3wMDSvrp0HI2DRpyS6U8dPvrofvLSR',\n",
    "    'csm-hit' : 'tb:TJAJVPCA5G2CQ9X1D585+s-TJAJVPCA5G2CQ9X1D585|1642767814793&t:1642767814794&adb:adblk_yes', \n",
    "    'session-id-time' : '2082787201l'\n",
    "}"
   ]
  },
  {
   "cell_type": "code",
   "execution_count": null,
   "id": "c87bbfa1",
   "metadata": {},
   "outputs": [],
   "source": []
  },
  {
   "cell_type": "markdown",
   "id": "1c2aacce",
   "metadata": {},
   "source": [
    "### Data from Product Page"
   ]
  },
  {
   "cell_type": "code",
   "execution_count": 7,
   "id": "39b734cf",
   "metadata": {},
   "outputs": [],
   "source": [
    "## OOS product\n",
    "url = 'https://www.amazon.com/Apple-iPhone-Pro-128GB-Gold/dp/B0BYLLTCMB/'\n",
    "## Multivariant, Multiseller - SAMSUNG Galaxy S22 \n",
    "url = 'https://www.amazon.com/SAMSUNG-Smartphone-Unlocked-Brightest-Processor/dp/B09MVZSW5V/'"
   ]
  },
  {
   "cell_type": "code",
   "execution_count": 8,
   "id": "30077145",
   "metadata": {},
   "outputs": [
    {
     "data": {
      "text/plain": [
       "200"
      ]
     },
     "execution_count": 8,
     "metadata": {},
     "output_type": "execute_result"
    }
   ],
   "source": [
    "res = requests.get(url, headers=headers)\n",
    "tree = html.fromstring(res.text)\n",
    "res.status_code"
   ]
  },
  {
   "cell_type": "code",
   "execution_count": 11,
   "id": "6abe59c4",
   "metadata": {},
   "outputs": [
    {
     "data": {
      "text/plain": [
       "'SAMSUNG Galaxy S22 Ultra Cell Phone, Factory Unlocked Android Smartphone, 128GB, 8K Camera & Video, Brightest Display Screen, S Pen, Long Battery Life, Fast 4nm Processor, US Version, Phantom Black'"
      ]
     },
     "execution_count": 11,
     "metadata": {},
     "output_type": "execute_result"
    }
   ],
   "source": [
    "def product_name():\n",
    "    product_name_xp1 = tree.xpath(\"//div[@id='centerCol']//span[@id='productTitle']/text()\")\n",
    "    \n",
    "    product_name = ''\n",
    "    if product_name_xp1:\n",
    "        product_name = product_name_xp1[0].strip()\n",
    "    \n",
    "    return product_name\n",
    "\n",
    "product_name()"
   ]
  },
  {
   "cell_type": "code",
   "execution_count": 10,
   "id": "50c5790b",
   "metadata": {},
   "outputs": [
    {
     "data": {
      "text/plain": [
       "''"
      ]
     },
     "execution_count": 10,
     "metadata": {},
     "output_type": "execute_result"
    }
   ],
   "source": [
    "def asin():\n",
    "    asin_xp1 = tree.xpath(\"//input[@id='ASIN']/@value\")\n",
    "\n",
    "    asin = \"\"\n",
    "    if asin_xp1:\n",
    "        asin = asin_xp1[0].strip()\n",
    "    return asin\n",
    "\n",
    "asin()"
   ]
  },
  {
   "cell_type": "code",
   "execution_count": 9,
   "id": "99aa0213",
   "metadata": {},
   "outputs": [
    {
     "name": "stdout",
     "output_type": "stream",
     "text": [
      "Number of offers:  4\n"
     ]
    }
   ],
   "source": [
    "def number_of_offers():\n",
    "    no_of_offers_xp1 = tree.xpath(\"//div[@id='centerCol']//span[@data-action='show-all-offers-display']//span[contains(text(), 'New')]/text()\")\n",
    "    no_of_offers_xp2 = tree.xpath(\"//div[@id='rightCol']//div[@class='olp-text-box']//span[contains(text(), 'New')]/text()\")\n",
    "    \n",
    "    no_of_offers = ''\n",
    "    if no_of_offers_xp1:\n",
    "        no_of_offers = re.sub(\"[^0-9]+\", '', no_of_offers_xp1[0])\n",
    "    elif no_of_offers_xp2:\n",
    "        no_of_offers = re.sub(\"[^0-9]+\", '', no_of_offers_xp2[0])\n",
    "        \n",
    "    return no_of_offers\n",
    "\n",
    "print(\"Number of offers: \", number_of_offers())"
   ]
  },
  {
   "cell_type": "code",
   "execution_count": null,
   "id": "e98f487a",
   "metadata": {},
   "outputs": [],
   "source": [
    "def price_start_from():\n",
    "    price_from_xp1 = tree.xpath(\"//div[@id='centerCol']//span[@data-action='show-all-offers-display']//span[contains(text(), 'New')]//following::span[@class='a-size-base a-color-price']/text()\")\n",
    "    price_from_xp2 = tree.xpath(\"//div[@id='rightCol']//div[@class='olp-text-box']//span[contains(text(), 'New')]//following::span[@class='a-size-base a-color-base']/text()\")\n",
    "\n",
    "    price_from = ''\n",
    "    if price_from_xp1:\n",
    "        price_from = re.sub(\"[^0-9.]+\", '', price_from_xp1[0])\n",
    "    elif price_from_xp2:\n",
    "        price_from = re.sub(\"[^0-9.]+\", '', price_from_xp2[0])\n",
    "        \n",
    "    return price_from\n",
    "\n",
    "print(\"Price starts from: \", price_start_from())"
   ]
  },
  {
   "cell_type": "code",
   "execution_count": null,
   "id": "f7cb1f7b",
   "metadata": {},
   "outputs": [],
   "source": []
  },
  {
   "cell_type": "code",
   "execution_count": null,
   "id": "5e2e0200",
   "metadata": {},
   "outputs": [],
   "source": []
  },
  {
   "cell_type": "code",
   "execution_count": null,
   "id": "f86fb08f",
   "metadata": {},
   "outputs": [],
   "source": []
  },
  {
   "cell_type": "code",
   "execution_count": null,
   "id": "97c647b6",
   "metadata": {},
   "outputs": [],
   "source": []
  },
  {
   "cell_type": "markdown",
   "id": "9d4b0039",
   "metadata": {},
   "source": [
    "### Seller URL"
   ]
  },
  {
   "cell_type": "code",
   "execution_count": null,
   "id": "c8bca6a1",
   "metadata": {},
   "outputs": [],
   "source": [
    "def seller_url_link():\n",
    "    home_url = \"https://www.amazon.ae\"\n",
    "    asin_no = asin()\n",
    "    seller_url =  home_url + \"/gp/aod/ajax/ref=auto_load_aod?asin=\" + asin_no + f\"&pageno=\"\n",
    "    return seller_url\n",
    "\n",
    "seller_url_link()"
   ]
  },
  {
   "cell_type": "markdown",
   "id": "152217e7",
   "metadata": {},
   "source": [
    "## Data from Seller Page"
   ]
  },
  {
   "cell_type": "code",
   "execution_count": null,
   "id": "22b494bd",
   "metadata": {},
   "outputs": [],
   "source": [
    "seller_url = seller_url_link()\n",
    "seller_res = requests.get(seller_url, headers=headers)\n",
    "seller_tree = html.fromstring(seller_res.content)"
   ]
  },
  {
   "cell_type": "code",
   "execution_count": null,
   "id": "9cce3b14",
   "metadata": {},
   "outputs": [],
   "source": [
    "# Seller Page data functions\n",
    "def seller_name_sp_func(seller_row, seller_tree):\n",
    "    # no_of_offers + 1 As we get 1 extra xpath in offer, if add not+2\n",
    "    seller_name_sp_xp1 = seller_tree.xpath(f\"//div[@id='aod-pinned-offer']//div[@id='aod-offer-soldBy']//a[@class='a-size-small a-link-normal'][1]/text()\")\n",
    "    seller_name_sp_xp2 = seller_tree.xpath(f\"//div[@id='aod-pinned-offer']//div[@id='aod-offer-soldBy']//span[@class='a-size-small a-color-base'][1]/text()\")\n",
    "    # seller_row-1 : xpath row start from 1. 1st was skip i.e BuyBox\n",
    "    seller_name_sp_xp3 = seller_tree.xpath(f\"//div[@id='aod-offer'][{seller_row - 1}]//div[@id='aod-offer-soldBy']//a[@class='a-size-small a-link-normal']/text()\")\n",
    "    # for amazon.eg seller it wont show anchor tag\n",
    "    seller_name_sp_xp4 = seller_tree.xpath(f\"//div[@id='aod-offer'][{seller_row - 1}]//div[@id='aod-offer-soldBy']//span[@class='a-size-small a-color-base']/text()\")\n",
    "\n",
    "    seller_name_sp = ''\n",
    "    if seller_name_sp_xp1 and seller_row == 1:\n",
    "        seller_name_sp = seller_name_sp_xp1[0].strip()\n",
    "    elif seller_name_sp_xp2 and seller_row == 1:\n",
    "        seller_name_sp = seller_name_sp_xp2[0].strip()\n",
    "    elif seller_name_sp_xp3:\n",
    "        seller_name_sp = seller_name_sp_xp3[0].strip()\n",
    "    elif seller_name_sp_xp4:\n",
    "        seller_name_sp = seller_name_sp_xp4[0].strip()\n",
    "\n",
    "    return seller_name_sp\n",
    "\n",
    "def now_price_sp_func(seller_row, seller_tree):\n",
    "    now_price_sp_xp1 = seller_tree.xpath(f\"//div[@id='aod-pinned-offer']//span[@class='a-price-whole'][1]/text()\")\n",
    "    now_price_sp_xp2 = seller_tree.xpath(f\"//div[@id='aod-offer'][{seller_row - 1}]//span[@class='a-price-whole']/text()\")\n",
    "\n",
    "    now_price_sp = ''\n",
    "    if now_price_sp_xp1 and seller_row == 1:\n",
    "        now_price_sp = now_price_sp_xp1[0].strip()\n",
    "    elif now_price_sp_xp2:\n",
    "        now_price_sp = now_price_sp_xp2[0].strip()\n",
    "        \n",
    "    now_price_sp = re.sub('[^.0-9]+', '', now_price_sp)\n",
    "\n",
    "    return now_price_sp\n",
    "\n",
    "def seller_rating_sp_func(seller_row, seller_tree):\n",
    "    seller_rating_sp_xp1 = seller_tree.xpath(f\"//div[@id='aod-pinned-offer']//div[@id='aod-offer-seller-rating'][1]/child::i/@class\")\n",
    "    seller_rating_sp_xp2 = seller_tree.xpath(f\"//div[@id='aod-offer'][{seller_row - 1}]//div[@id='aod-offer-seller-rating'][1]/child::i/@class\")\n",
    "\n",
    "    seller_rating_sp = ''\n",
    "    if seller_rating_sp_xp1 and seller_row == 1:\n",
    "        seller_rating_sp = seller_rating_sp_xp1[0].split(\"mini-\")[1].split()[0].replace(\"-\", \".\")\n",
    "    elif seller_rating_sp_xp2:\n",
    "        seller_rating_sp = seller_rating_sp_xp2[0].split(\"mini-\")[1].split()[0].replace(\"-\", \".\")\n",
    "\n",
    "    return seller_rating_sp\n",
    "\n",
    "def shipping_cost_sp_func(seller_row, seller_tree):\n",
    "    shipping_cost_sp_xp1 = seller_tree.xpath(f\"//div[@id='aod-pinned-offer']//div[@id='mir-layout-DELIVERY_BLOCK-slot-DELIVERY_MESSAGE'][1]/child::a/text()\")\n",
    "    shipping_cost_sp_xp2 = seller_tree.xpath(f\"//div[@id='aod-offer'][{seller_row - 1}]//div[@id='mir-layout-DELIVERY_BLOCK-slot-DELIVERY_MESSAGE'][1]/child::a/text()\")\n",
    "\n",
    "    shipping_cost_sp = ''\n",
    "    if shipping_cost_sp_xp1 and seller_row == 1:\n",
    "        shipping_cost_sp = shipping_cost_sp_xp1[0].strip()\n",
    "        if 'FREE' in shipping_cost_sp.upper():\n",
    "            shipping_cost_sp = 0\n",
    "        elif not 'FREE' in shipping_cost_sp.upper():\n",
    "            shipping_cost_sp = re.sub(\"[^0-9.]\", \"\", shipping_cost_sp)\n",
    "            \n",
    "    elif shipping_cost_sp_xp2:\n",
    "        shipping_cost_sp = shipping_cost_sp_xp2[0].strip()\n",
    "        if 'FREE' in shipping_cost_sp.upper():\n",
    "            shipping_cost_sp = 0\n",
    "        elif not 'FREE' in shipping_cost_sp.upper():\n",
    "            shipping_cost_sp = re.sub(\"[^0-9.]\", \"\", shipping_cost_sp)\n",
    "    return shipping_cost_sp\n",
    "\n",
    "def seller_ranking_sp_func(seller_row, seller_tree):\n",
    "    return seller_row\n",
    "\n",
    "def seller_review_count_sp_func(seller_row, seller_tree):\n",
    "    seller_review_count_sp_xp1 = seller_tree.xpath(f\"//div[@id='aod-pinned-offer']//span[@id='aod-asin-reviews-count-title']/text()\")\n",
    "    seller_review_count_sp_xp2 = seller_tree.xpath(f\"//div[@id='aod-offer'][{seller_row - 1}]//span[@id='seller-rating-count-{{iter}}']//span[contains(text(), 'rating')]/text()\")\n",
    "\n",
    "    seller_review_count_sp = ''\n",
    "    if seller_review_count_sp_xp1 and seller_row == 1:\n",
    "        seller_review_count_sp = seller_review_count_sp_xp1[0].strip()\n",
    "        seller_review_count_sp = re.sub(\"[()]\", '', seller_review_count_sp)\n",
    "    elif seller_review_count_sp_xp2:\n",
    "        seller_review_count_sp = seller_review_count_sp_xp2[0].strip()\n",
    "        seller_review_count_sp = re.sub(\"[()]\", '', seller_review_count_sp)\n",
    "\n",
    "    return seller_review_count_sp\n",
    "\n",
    "def shipping_days_text_sp_func(seller_row, seller_tree):\n",
    "    shipping_days_text_sp_xp1 = seller_tree.xpath(f\"//div[@id='aod-pinned-offer']//div[@id='mir-layout-DELIVERY_BLOCK-slot-DELIVERY_MESSAGE'][1]/child::b/text()\")\n",
    "    shipping_days_text_sp_xp2 = seller_tree.xpath(f\"//div[@id='aod-offer'][{seller_row - 1}]//div[@id='mir-layout-DELIVERY_BLOCK-slot-DELIVERY_MESSAGE'][1]/child::b/text()\")\n",
    "\n",
    "    shipping_days_text_sp = ''\n",
    "    if shipping_days_text_sp_xp1 and seller_row == 1:\n",
    "        shipping_days_text_sp = shipping_days_text_sp_xp1[0].strip()\n",
    "    elif shipping_days_text_sp_xp2:\n",
    "        shipping_days_text_sp = shipping_days_text_sp_xp2[0].strip()\n",
    "\n",
    "    return shipping_days_text_sp\n",
    "\n",
    "def product_condition_sp_func(seller_row, seller_tree):\n",
    "    product_condition_sp_xp1 = seller_tree.xpath(f\"//div[@id='aod-pinned-offer']//div[@id='aod-offer-heading']//h5/text()\")\n",
    "    product_condition_sp_xp2 = seller_tree.xpath(f\"//div[@id='aod-offer'][{seller_row - 1}]//div[@id='aod-offer-heading']//h5/text()\")\n",
    "\n",
    "    product_condition_sp = ''\n",
    "    if product_condition_sp_xp1 and seller_row == 1: \n",
    "        product_condition_sp = product_condition_sp_xp1[0].strip()\n",
    "    elif product_condition_sp_xp2:\n",
    "        product_condition_sp = product_condition_sp_xp2[0].strip()\n",
    "\n",
    "    return product_condition_sp\n",
    "\n",
    "\n",
    "# Seller_name 2 diff values calculate\n",
    "# Todo: Delivered by, Fulfilled by, Ships from\n",
    "# Todo: Sold by\n",
    "# Todo: prime_saving\n",
    "# Todo: Fastest delivery Order within 7 hrs and 36 mins\n",
    "# Tod: seller_positive_rating_txt - 47% positive over the last 12 months47% positive over the last 12 months"
   ]
  },
  {
   "cell_type": "code",
   "execution_count": null,
   "id": "1a3fa801",
   "metadata": {},
   "outputs": [],
   "source": []
  },
  {
   "cell_type": "code",
   "execution_count": null,
   "id": "8b47c798",
   "metadata": {},
   "outputs": [],
   "source": [
    "def seller_data_crawl(seller_pages, seller_url_link):\n",
    "    total_seller_pages = seller_pages()\n",
    "    seller_url = seller_url_link()\n",
    "    seller_data_sp = []\n",
    "    seller_price_list_sp = []\n",
    "    all_seller_pages_resp = \"\"\n",
    "\n",
    "    # Seller pages loop\n",
    "    # Todo: If one of the seller page response fails, then need to try 3 times hit with different proxy.\n",
    "    for seller_page in range(1, total_seller_pages + 1):\n",
    "        time.sleep(random.randint(3,5))\n",
    "        print(f\"seller url link{seller_page}: \", seller_url + str(seller_page))\n",
    "        seller_resp = requests.get(seller_url + str(seller_page), headers=headers)\n",
    "        \n",
    "        # Append all seller pages response\n",
    "        all_seller_pages_resp += seller_resp.text\n",
    "        \n",
    "        seller_tree = html.fromstring(seller_resp.text)\n",
    "        \n",
    "        # Todo: Delete Test Code\n",
    "        # if seller_page == 2:\n",
    "        #     seller_resp.status_code = 503\n",
    "        # Todo: check if any seller page response is !== 200. Seller order changed - Major issue\n",
    "        print(\"Seller page response: \", seller_resp.status_code)\n",
    "        \n",
    "        if seller_resp.status_code == 200:\n",
    "            print(f\"Fetching data for seller page {seller_page}\")\n",
    "            no_of_offers = number_of_offers()\n",
    "            if no_of_offers != '':\n",
    "                no_of_offers = int(no_of_offers)\n",
    "                \n",
    "            \n",
    "\n",
    "            # Seller row in one page loop\n",
    "            for seller_row in range(1, no_of_offers + 1):\n",
    "                seller_name_sp = seller_name_sp_func(seller_row, seller_tree)\n",
    "                now_price_sp = now_price_sp_func(seller_row, seller_tree)\n",
    "                seller_rating_sp = seller_rating_sp_func(seller_row, seller_tree)\n",
    "                shipping_cost_sp = shipping_cost_sp_func(seller_row, seller_tree)\n",
    "                seller_ranking_sp = seller_ranking_sp_func(seller_row, seller_tree)\n",
    "                seller_review_count_sp = seller_review_count_sp_func(seller_row, seller_tree)\n",
    "                shipping_days_text_sp = shipping_days_text_sp_func(seller_row, seller_tree)\n",
    "                product_condition_sp = product_condition_sp_func(seller_row, seller_tree)\n",
    "                \n",
    "                \n",
    "                if seller_name_sp != \"\":\n",
    "                    seller_data_sp.append({\n",
    "                        'seller_name_sp': seller_name_sp,\n",
    "                        'now_price_sp': now_price_sp,\n",
    "                        'seller_rating_sp': seller_rating_sp,\n",
    "                        'shipping_cost_sp': shipping_cost_sp,\n",
    "                        'seller_ranking_sp': seller_ranking_sp,\n",
    "                        'seller_review_count_sp': seller_review_count_sp,\n",
    "                        'shipping_days_text_sp': shipping_days_text_sp,\n",
    "                        'product_condition_sp': product_condition_sp,\n",
    "                    })\n",
    "           \n",
    "        # seller resp != 200        \n",
    "        else:\n",
    "            pass\n",
    "\n",
    "    print(\"Length seller data\", len(seller_data_sp))\n",
    "    return (seller_data_sp, all_seller_pages_resp)\n",
    "\n",
    "seller_dataframe, all_seller_pages_resp = seller_data_crawl(seller_pages, seller_url_link)"
   ]
  },
  {
   "cell_type": "code",
   "execution_count": null,
   "id": "fd35a531",
   "metadata": {},
   "outputs": [],
   "source": []
  },
  {
   "cell_type": "markdown",
   "id": "99e9336c",
   "metadata": {},
   "source": [
    "### DataFrame"
   ]
  },
  {
   "cell_type": "code",
   "execution_count": null,
   "id": "4bab540b",
   "metadata": {},
   "outputs": [],
   "source": [
    "df = pd.DataFrame(seller_dataframe)"
   ]
  },
  {
   "cell_type": "code",
   "execution_count": 12,
   "id": "3a02774f",
   "metadata": {},
   "outputs": [
    {
     "ename": "NameError",
     "evalue": "name 'df' is not defined",
     "output_type": "error",
     "traceback": [
      "\u001b[1;31m---------------------------------------------------------------------------\u001b[0m",
      "\u001b[1;31mNameError\u001b[0m                                 Traceback (most recent call last)",
      "\u001b[1;32m~\\AppData\\Local\\Temp\\ipykernel_13520\\1396537375.py\u001b[0m in \u001b[0;36m<module>\u001b[1;34m\u001b[0m\n\u001b[1;32m----> 1\u001b[1;33m \u001b[0mdf\u001b[0m\u001b[1;33m\u001b[0m\u001b[1;33m\u001b[0m\u001b[0m\n\u001b[0m",
      "\u001b[1;31mNameError\u001b[0m: name 'df' is not defined"
     ]
    }
   ],
   "source": [
    "df"
   ]
  },
  {
   "cell_type": "code",
   "execution_count": null,
   "id": "953400b2",
   "metadata": {},
   "outputs": [],
   "source": []
  },
  {
   "cell_type": "code",
   "execution_count": null,
   "id": "091698b4",
   "metadata": {},
   "outputs": [],
   "source": []
  },
  {
   "cell_type": "code",
   "execution_count": null,
   "id": "849bfe54",
   "metadata": {},
   "outputs": [],
   "source": []
  },
  {
   "cell_type": "code",
   "execution_count": null,
   "id": "96314be0",
   "metadata": {},
   "outputs": [],
   "source": []
  },
  {
   "cell_type": "code",
   "execution_count": null,
   "id": "07ee22fa",
   "metadata": {},
   "outputs": [],
   "source": []
  },
  {
   "cell_type": "code",
   "execution_count": null,
   "id": "b88d2c26",
   "metadata": {},
   "outputs": [],
   "source": []
  },
  {
   "cell_type": "markdown",
   "id": "7a4029c4",
   "metadata": {},
   "source": [
    "# Testing"
   ]
  },
  {
   "cell_type": "code",
   "execution_count": null,
   "id": "13d62317",
   "metadata": {},
   "outputs": [],
   "source": []
  },
  {
   "cell_type": "code",
   "execution_count": null,
   "id": "d72e9c4d",
   "metadata": {},
   "outputs": [],
   "source": []
  },
  {
   "cell_type": "markdown",
   "id": "2082d7ca",
   "metadata": {},
   "source": [
    "## Other functions"
   ]
  },
  {
   "cell_type": "raw",
   "id": "c7f01bb5",
   "metadata": {},
   "source": [
    "final_resp_text = resp.text + seller_resp.text\n",
    "# Html write response\n",
    "\n",
    "try:\n",
    "    with open(\"html_page1.htm\", \"w\", encoding='utf-8') as file_obj:\n",
    "    file_obj.write(str(final_res_text))\n",
    "except Exception as e:\n",
    "    print(\"Error: \" ,e)"
   ]
  },
  {
   "cell_type": "raw",
   "id": "dec15b35",
   "metadata": {},
   "source": [
    "# html read response\n",
    "try:\n",
    "    with open(\"html_page1.htm\", \"r\", encoding=\"utf-8\") as file_obj:\n",
    "        page = file_obj.read()\n",
    "    tree = html.fromstring(page)\n",
    "except Exception as e:\n",
    "    print(\"Error: \" ,e)"
   ]
  },
  {
   "cell_type": "raw",
   "id": "ae929d8d",
   "metadata": {},
   "source": [
    "# Encoding Error : Use encoding='utf-8' in open function\n",
    "# Error:  'charmap' codec can't decode byte 0x81 in position 1314005: character maps to <undefined>"
   ]
  },
  {
   "cell_type": "code",
   "execution_count": null,
   "id": "d15af93e",
   "metadata": {},
   "outputs": [],
   "source": []
  }
 ],
 "metadata": {
  "kernelspec": {
   "display_name": "Python 3 (ipykernel)",
   "language": "python",
   "name": "python3"
  },
  "language_info": {
   "codemirror_mode": {
    "name": "ipython",
    "version": 3
   },
   "file_extension": ".py",
   "mimetype": "text/x-python",
   "name": "python",
   "nbconvert_exporter": "python",
   "pygments_lexer": "ipython3",
   "version": "3.9.13"
  }
 },
 "nbformat": 4,
 "nbformat_minor": 5
}
