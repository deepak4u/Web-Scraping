{
 "cells": [
  {
   "cell_type": "markdown",
   "id": "de29532a",
   "metadata": {},
   "source": [
    "# IMDB Search and crawl"
   ]
  },
  {
   "cell_type": "code",
   "execution_count": 17,
   "id": "b24f0681",
   "metadata": {},
   "outputs": [
    {
     "name": "stdout",
     "output_type": "stream",
     "text": [
      "***** IMDB Data crawl crom search *****\n",
      "Enter Movie/Series Name:wednesday\n",
      "\n",
      "*** Search Result Titles ***\n",
      "1. Wednesday\n",
      "2. Big Wednesday\n",
      "3. A Wednesday\n",
      "4. aTypical Wednesday\n",
      "5. Fireworks Wednesday\n",
      "-----------------------------\n",
      "Select the number from above list:1\n"
     ]
    },
    {
     "data": {
      "text/html": [
       "<div>\n",
       "<style scoped>\n",
       "    .dataframe tbody tr th:only-of-type {\n",
       "        vertical-align: middle;\n",
       "    }\n",
       "\n",
       "    .dataframe tbody tr th {\n",
       "        vertical-align: top;\n",
       "    }\n",
       "\n",
       "    .dataframe thead th {\n",
       "        text-align: right;\n",
       "    }\n",
       "</style>\n",
       "<table border=\"1\" class=\"dataframe\">\n",
       "  <thead>\n",
       "    <tr style=\"text-align: right;\">\n",
       "      <th></th>\n",
       "      <th>Metadata</th>\n",
       "    </tr>\n",
       "  </thead>\n",
       "  <tbody>\n",
       "    <tr>\n",
       "      <th>titleText</th>\n",
       "      <td>Wednesday</td>\n",
       "    </tr>\n",
       "    <tr>\n",
       "      <th>titleType</th>\n",
       "      <td>TV Series</td>\n",
       "    </tr>\n",
       "    <tr>\n",
       "      <th>genres</th>\n",
       "      <td>Comedy,Crime,Fantasy,Mystery</td>\n",
       "    </tr>\n",
       "    <tr>\n",
       "      <th>Languages</th>\n",
       "      <td>English</td>\n",
       "    </tr>\n",
       "    <tr>\n",
       "      <th>runtime</th>\n",
       "      <td>2700</td>\n",
       "    </tr>\n",
       "    <tr>\n",
       "      <th>YearRange</th>\n",
       "      <td>2022 - None</td>\n",
       "    </tr>\n",
       "    <tr>\n",
       "      <th>originalTitleText</th>\n",
       "      <td>Wednesday</td>\n",
       "    </tr>\n",
       "    <tr>\n",
       "      <th>total_episodes</th>\n",
       "      <td>9</td>\n",
       "    </tr>\n",
       "  </tbody>\n",
       "</table>\n",
       "</div>"
      ],
      "text/plain": [
       "                                       Metadata\n",
       "titleText                             Wednesday\n",
       "titleType                             TV Series\n",
       "genres             Comedy,Crime,Fantasy,Mystery\n",
       "Languages                               English\n",
       "runtime                                    2700\n",
       "YearRange                           2022 - None\n",
       "originalTitleText                     Wednesday\n",
       "total_episodes                                9"
      ]
     },
     "metadata": {},
     "output_type": "display_data"
    },
    {
     "data": {
      "text/html": [
       "<div>\n",
       "<style scoped>\n",
       "    .dataframe tbody tr th:only-of-type {\n",
       "        vertical-align: middle;\n",
       "    }\n",
       "\n",
       "    .dataframe tbody tr th {\n",
       "        vertical-align: top;\n",
       "    }\n",
       "\n",
       "    .dataframe thead th {\n",
       "        text-align: right;\n",
       "    }\n",
       "</style>\n",
       "<table border=\"1\" class=\"dataframe\">\n",
       "  <thead>\n",
       "    <tr style=\"text-align: right;\">\n",
       "      <th></th>\n",
       "    </tr>\n",
       "  </thead>\n",
       "  <tbody>\n",
       "  </tbody>\n",
       "</table>\n",
       "</div>"
      ],
      "text/plain": [
       "Empty DataFrame\n",
       "Columns: []\n",
       "Index: []"
      ]
     },
     "metadata": {},
     "output_type": "display_data"
    }
   ],
   "source": [
    "import requests\n",
    "from lxml import html\n",
    "import pandas as pd\n",
    "import re\n",
    "import json\n",
    "#import logging\n",
    "#logging.basicConfig(level = logging.DEBUG)\n",
    "\n",
    "headers = {\n",
    "        'user-agent': 'Mozilla/5.0 (Windows NT 10.0; Win64; x64) AppleWebKit/537.36 (KHTML, like Gecko) Chrome/111.0.0.0 Safari/537.36',\n",
    "        'accept-language': 'en-US,en;q=0.9'\n",
    "    }\n",
    "\n",
    "def parse_page(url, headers):\n",
    "    ''' Return: parsed tree form response'''\n",
    "    res = requests.get(url, headers=headers)\n",
    "    if res.status_code == 200:\n",
    "        tree = html.fromstring(res.content)\n",
    "        return tree\n",
    "    else:\n",
    "        return None\n",
    "    \n",
    "\n",
    "def imdb_search_res(tree):    \n",
    "    search_res_script_json_data_xp =  tree.xpath(\"//script[@id='__NEXT_DATA__']/text()\")\n",
    "    if search_res_script_json_data_xp:\n",
    "        search_res_json_data = json.loads(search_res_script_json_data_xp[0])\n",
    "        \n",
    "        search_res_data = []\n",
    "        for row in range(len(search_res_json_data['props']['pageProps']['titleResults']['results'])):\n",
    "#             search_res_id = search_res_json_data['props']['pageProps']['titleResults']['results'][row]['id']\n",
    "#             search_res_url = f\"https://www.imdb.com/title/{search_res_id}/\"\n",
    "#             search_res_title = search_res_json_data['props']['pageProps']['titleResults']['results'][row]['titleNameText']\n",
    "#             search_res_content_type = search_res_json_data['props']['pageProps']['titleResults']['results'][row]['titleTypeText']\n",
    "#             search_res_release_year = search_res_json_data['props']['pageProps']['titleResults']['results'][row]['titleReleaseText']\n",
    "            search_res_id = search_res_json_data['props']['pageProps']['titleResults']['results'][row].get('id')\n",
    "            search_res_url = f\"https://www.imdb.com/title/{search_res_id}/\"\n",
    "            search_res_title = search_res_json_data['props']['pageProps']['titleResults']['results'][row].get('titleNameText')\n",
    "            search_res_content_type = search_res_json_data['props']['pageProps']['titleResults']['results'][row].get('titleTypeText')\n",
    "            search_res_release_year = search_res_json_data['props']['pageProps']['titleResults']['results'][row].get('titleReleaseText')\n",
    "\n",
    "\n",
    "            search_res_data.append({\n",
    "                'search_res_title': search_res_title,\n",
    "                'search_res_content_type': search_res_content_type,\n",
    "                'search_res_release_year': search_res_release_year,\n",
    "                'search_res_url': search_res_url\n",
    "            })\n",
    "        return search_res_data\n",
    "    else:\n",
    "        return None\n",
    "        \n",
    "\n",
    "def imdb_program_crawl(tree):\n",
    "    program_script_json_data_xp =  tree.xpath(\"//script[@id='__NEXT_DATA__']/text()\")\n",
    "    if program_script_json_data_xp:\n",
    "        program_json_data = json.loads(program_script_json_data_xp[0])\n",
    "        \n",
    "        total_episodes = ''\n",
    "        \n",
    "        releaseYear = program_json_data['props']['pageProps']['aboveTheFoldData']['releaseYear']['year']\n",
    "        endYear = program_json_data['props']['pageProps']['aboveTheFoldData']['releaseYear']['endYear']\n",
    "        YearRange = f\"{releaseYear} - {endYear}\"\n",
    "        if program_json_data['props']['pageProps']['mainColumnData']['episodes']:\n",
    "            total_episodes = program_json_data['props']['pageProps']['mainColumnData']['episodes']['episodes']['total']\n",
    "        \n",
    "        program_data_dict = {\n",
    "            'titleText': program_json_data['props']['pageProps']['aboveTheFoldData']['titleText']['text'],\n",
    "            'titleType': program_json_data['props']['pageProps']['aboveTheFoldData']['titleType']['text'],\n",
    "            'genres': ','.join([genres_text['text'] for genres_text in program_json_data['props']['pageProps']['aboveTheFoldData']['genres']['genres']]),\n",
    "            'Languages': ','.join([language['text'] for language in program_json_data['props']['pageProps']['mainColumnData']['spokenLanguages']['spokenLanguages']]),\n",
    "            'originalTitleText': program_json_data['props']['pageProps']['aboveTheFoldData']['originalTitleText']['text'],\n",
    "            'YearRange': YearRange,\n",
    "            'runtime': program_json_data['props']['pageProps']['aboveTheFoldData']['runtime']['seconds'],\n",
    "            'aggregateRating': program_json_data['props']['pageProps']['aboveTheFoldData']['ratingsSummary']['aggregateRating'],\n",
    "            'voteCount': program_json_data['props']['pageProps']['aboveTheFoldData']['ratingsSummary']['voteCount'],\n",
    "            'meterRanking': program_json_data['props']['pageProps']['aboveTheFoldData']['meterRanking']['currentRank'],\n",
    "            'total_episodes': total_episodes,\n",
    "\n",
    "            'runtime': program_json_data['props']['pageProps']['aboveTheFoldData']['runtime']['seconds'],\n",
    "            'runtime': program_json_data['props']['pageProps']['aboveTheFoldData']['runtime']['seconds'],\n",
    "        } \n",
    "        return program_data_dict\n",
    "    else:\n",
    "        return None\n",
    "\n",
    "def display_series_metadata(program_data, series_episodes_data=None):\n",
    "    ''' Display Selected metadata '''\n",
    "    metadata_keys_lst = ['titleText', 'titleType', 'genres', 'Languages', 'runtime', 'YearRange', 'originalTitleText', 'total_episodes']\n",
    "    selected_program_data = {key: program_data[key] for key in metadata_keys_lst if key in program_data}\n",
    "    \n",
    "    # program metadata Dataframe print\n",
    "    with pd.option_context('display.max_rows', None, 'display.max_colwidth', None):\n",
    "        display(pd.DataFrame.from_dict(selected_program_data, orient='index', columns=['Metadata']))\n",
    "      \n",
    "    if selected_program_data['total_episodes'] is not None:\n",
    "        # Series episodes Dataframe print\n",
    "        with pd.option_context('display.max_rows', None, 'display.max_colwidth', None):\n",
    "            display(pd.DataFrame(series_episodes_data))\n",
    "\n",
    "        \n",
    "def imdb_series_episodes_crawl(tree):\n",
    "    series_script_json_data_xp =  tree.xpath(\"//script[@id='__NEXT_DATA__']/text()\")\n",
    "    if series_script_json_data_xp:\n",
    "        series_script_json_data = json.loads(series_script_json_data_xp[0])\n",
    "    \n",
    "        series_data = {\n",
    "            'titleText': program_json_data['props']['pageProps']['aboveTheFoldData']['titleText']['text'],\n",
    "        } \n",
    "        return series_data\n",
    "    else:\n",
    "        return None\n",
    "\n",
    "        \n",
    "def main():\n",
    "    home_url = 'https://www.imdb.com/'\n",
    "    print(\"***** IMDB Data crawl crom search *****\")\n",
    "    search_keyword = input(\"Enter Movie/Series Name:\").replace(' ', '+')\n",
    "    search_url = f\"https://www.imdb.com/find?q={search_keyword}\"\n",
    "    \n",
    "    search_tree = parse_page(search_url, headers)\n",
    "    if search_tree is not None:\n",
    "        search_res_data = imdb_search_res(search_tree)\n",
    "        if search_res_data is not None:\n",
    "            print(\"\",\"*** Search Result Titles ***\", sep=\"\\n\")\n",
    "            for row, search_res in enumerate(search_res_data, start=1):\n",
    "                print(f\"{row}. {search_res['search_res_title']}\")\n",
    "            \n",
    "            print(\"-----------------------------\")\n",
    "            selection = int(input(\"Select the number from above list:\"))\n",
    "            program_url = search_res_data[selection-1]['search_res_url']\n",
    "            # Crawl program data\n",
    "            program_tree = parse_page(program_url, headers)\n",
    "            program_data = imdb_program_crawl(program_tree)\n",
    "            \n",
    "            if program_data.get('total_episodes'):\n",
    "                series_episodes_url = program_url + 'episodes/'\n",
    "                # Crawl Series episodes data\n",
    "                series_tree = parse_page(series_episodes_url, headers)\n",
    "                series_episodes_data = imdb_series_episodes_crawl(series_tree)\n",
    "                # Display program + Episodes metadata\n",
    "                display_series_metadata(program_data, series_episodes_data)\n",
    "            else:\n",
    "                # Display program metadata\n",
    "                display_series_metadata(program_data)\n",
    "            \n",
    "    else:\n",
    "        print(\"Access Denied\")\n",
    "\n",
    "if __name__ == '__main__':\n",
    "    main()"
   ]
  },
  {
   "cell_type": "code",
   "execution_count": null,
   "id": "caace389",
   "metadata": {},
   "outputs": [],
   "source": []
  },
  {
   "cell_type": "code",
   "execution_count": null,
   "id": "b4e2154c",
   "metadata": {},
   "outputs": [],
   "source": []
  },
  {
   "cell_type": "code",
   "execution_count": null,
   "id": "081547fb",
   "metadata": {},
   "outputs": [],
   "source": []
  },
  {
   "cell_type": "code",
   "execution_count": null,
   "id": "5709e6c3",
   "metadata": {},
   "outputs": [],
   "source": []
  },
  {
   "cell_type": "code",
   "execution_count": null,
   "id": "afe36dad",
   "metadata": {},
   "outputs": [],
   "source": []
  },
  {
   "cell_type": "code",
   "execution_count": null,
   "id": "780e24b5",
   "metadata": {},
   "outputs": [],
   "source": []
  },
  {
   "cell_type": "markdown",
   "id": "8afb2853",
   "metadata": {},
   "source": [
    "# Testing"
   ]
  },
  {
   "cell_type": "code",
   "execution_count": 2,
   "id": "e2be6398",
   "metadata": {},
   "outputs": [],
   "source": [
    "import requests\n",
    "from lxml import html\n",
    "import pandas as pd\n",
    "import re\n",
    "import json\n",
    "\n",
    "#import logging\n",
    "#logging.basicConfig(level = logging.DEBUG)"
   ]
  },
  {
   "cell_type": "code",
   "execution_count": 3,
   "id": "0e61c4ca",
   "metadata": {},
   "outputs": [],
   "source": [
    "headers = {\n",
    "        'user-agent': 'Mozilla/5.0 (Windows NT 6.1; Win64; x64) AppleWebKit/537.36 (KHTML, like Gecko) Chrome/89.0.4389.90 Safari/537.36',\n",
    "        'accept-language': 'en-US,en;q=0.9'\n",
    "    }"
   ]
  },
  {
   "cell_type": "code",
   "execution_count": 4,
   "id": "3a44dccb",
   "metadata": {},
   "outputs": [],
   "source": [
    "home_url = 'https://www.imdb.com/'"
   ]
  },
  {
   "cell_type": "code",
   "execution_count": 5,
   "id": "0f2d024b",
   "metadata": {},
   "outputs": [
    {
     "name": "stdout",
     "output_type": "stream",
     "text": [
      "***** IMDB Data crawl crom search *****\n",
      "Enter Movie/Series Name:wednesday\n"
     ]
    },
    {
     "data": {
      "text/plain": [
       "'https://www.imdb.com/find?q=wednesday'"
      ]
     },
     "execution_count": 5,
     "metadata": {},
     "output_type": "execute_result"
    }
   ],
   "source": [
    "print(\"***** IMDB Data crawl crom search *****\")\n",
    "search_keyword = input(\"Enter Movie/Series Name:\").replace(' ', '+')\n",
    "url = f\"https://www.imdb.com/find?q={search_keyword}\"\n",
    "url"
   ]
  },
  {
   "cell_type": "code",
   "execution_count": 6,
   "id": "eb232f96",
   "metadata": {},
   "outputs": [
    {
     "data": {
      "text/plain": [
       "200"
      ]
     },
     "execution_count": 6,
     "metadata": {},
     "output_type": "execute_result"
    }
   ],
   "source": [
    "res = requests.get(url, headers=headers)\n",
    "tree = html.fromstring(res.content)\n",
    "res.status_code"
   ]
  },
  {
   "cell_type": "code",
   "execution_count": 7,
   "id": "16d00aeb",
   "metadata": {},
   "outputs": [],
   "source": [
    "search_res_script_json_data_xp =  tree.xpath(\"//script[@id='__NEXT_DATA__']/text()\")\n",
    "search_res_json_data = json.loads(search_res_script_json_data_xp[0])"
   ]
  },
  {
   "cell_type": "code",
   "execution_count": 8,
   "id": "3c277c10",
   "metadata": {
    "scrolled": true
   },
   "outputs": [
    {
     "data": {
      "text/plain": [
       "{'id': 'tt13443470',\n",
       " 'titleNameText': 'Wednesday',\n",
       " 'titleReleaseText': '2022– ',\n",
       " 'titleTypeText': 'TV Series',\n",
       " 'titlePosterImageModel': {'url': 'https://m.media-amazon.com/images/M/MV5BM2ZmMjEyZmYtOGM4YS00YTNhLWE3ZDMtNzQxM2RhNjBlODIyXkEyXkFqcGdeQXVyMTUzMTg2ODkz._V1_.jpg',\n",
       "  'maxHeight': 2222,\n",
       "  'maxWidth': 1500,\n",
       "  'caption': 'Jenna Ortega in Wednesday (2022)'},\n",
       " 'topCredits': ['Jenna Ortega', 'Hunter Doohan'],\n",
       " 'imageType': 'tvSeries'}"
      ]
     },
     "execution_count": 8,
     "metadata": {},
     "output_type": "execute_result"
    }
   ],
   "source": [
    "search_res_json_data['props']['pageProps']['titleResults']['results'][0]"
   ]
  },
  {
   "cell_type": "code",
   "execution_count": 9,
   "id": "be0659ae",
   "metadata": {},
   "outputs": [
    {
     "data": {
      "text/plain": [
       "[{'search_res_title': 'Wednesday',\n",
       "  'search_res_content_type': 'TV Series',\n",
       "  'search_res_release_year': '2022– ',\n",
       "  'search_res_url': 'https://www.imdb.com/title/tt13443470/'},\n",
       " {'search_res_title': 'Big Wednesday',\n",
       "  'search_res_content_type': '',\n",
       "  'search_res_release_year': '1978',\n",
       "  'search_res_url': 'https://www.imdb.com/title/tt0077235/'},\n",
       " {'search_res_title': 'A Wednesday',\n",
       "  'search_res_content_type': '',\n",
       "  'search_res_release_year': '2008',\n",
       "  'search_res_url': 'https://www.imdb.com/title/tt1280558/'},\n",
       " {'search_res_title': 'aTypical Wednesday',\n",
       "  'search_res_content_type': '',\n",
       "  'search_res_release_year': '2020',\n",
       "  'search_res_url': 'https://www.imdb.com/title/tt9324808/'},\n",
       " {'search_res_title': 'Fireworks Wednesday',\n",
       "  'search_res_content_type': '',\n",
       "  'search_res_release_year': '2006',\n",
       "  'search_res_url': 'https://www.imdb.com/title/tt0845439/'}]"
      ]
     },
     "execution_count": 9,
     "metadata": {},
     "output_type": "execute_result"
    }
   ],
   "source": [
    "search_res_data = []\n",
    "for row in range(len(search_res_json_data['props']['pageProps']['titleResults']['results'])):\n",
    "    search_res_id = search_res_json_data['props']['pageProps']['titleResults']['results'][row]['id']\n",
    "    search_res_url = f\"https://www.imdb.com/title/{search_res_id}/\"\n",
    "    search_res_title = search_res_json_data['props']['pageProps']['titleResults']['results'][row]['titleNameText']\n",
    "    search_res_content_type = search_res_json_data['props']['pageProps']['titleResults']['results'][row]['titleTypeText']\n",
    "    search_res_release_year = search_res_json_data['props']['pageProps']['titleResults']['results'][row]['titleReleaseText']\n",
    "    \n",
    "    search_res_data.append({\n",
    "        'search_res_title': search_res_title,\n",
    "        'search_res_content_type': search_res_content_type,\n",
    "        'search_res_release_year': search_res_release_year,\n",
    "        'search_res_url': search_res_url\n",
    "    })\n",
    "    \n",
    "search_res_data"
   ]
  },
  {
   "cell_type": "markdown",
   "id": "a10fe885",
   "metadata": {},
   "source": [
    "### Program crawl - Script JSON Data "
   ]
  },
  {
   "cell_type": "code",
   "execution_count": 10,
   "id": "10d040c3",
   "metadata": {},
   "outputs": [
    {
     "data": {
      "text/plain": [
       "200"
      ]
     },
     "execution_count": 10,
     "metadata": {},
     "output_type": "execute_result"
    }
   ],
   "source": [
    "url = 'https://www.imdb.com/title/tt6468322/?ref_=fn_al_tt_1'\n",
    "# url = 'https://www.netflix.com/search?q=wednesday&jbv=81231974'\n",
    "res = requests.get(url, headers=headers)\n",
    "tree = html.fromstring(res.content)\n",
    "res.status_code"
   ]
  },
  {
   "cell_type": "code",
   "execution_count": 11,
   "id": "a6918d58",
   "metadata": {},
   "outputs": [],
   "source": [
    "program_script_json_data_xp =  tree.xpath(\"//script[@id='__NEXT_DATA__']/text()\")\n",
    "program_json_data = json.loads(program_script_json_data_xp[0])"
   ]
  },
  {
   "cell_type": "code",
   "execution_count": 12,
   "id": "6b9ea54e",
   "metadata": {},
   "outputs": [
    {
     "data": {
      "text/html": [
       "<div>\n",
       "<style scoped>\n",
       "    .dataframe tbody tr th:only-of-type {\n",
       "        vertical-align: middle;\n",
       "    }\n",
       "\n",
       "    .dataframe tbody tr th {\n",
       "        vertical-align: top;\n",
       "    }\n",
       "\n",
       "    .dataframe thead th {\n",
       "        text-align: right;\n",
       "    }\n",
       "</style>\n",
       "<table border=\"1\" class=\"dataframe\">\n",
       "  <thead>\n",
       "    <tr style=\"text-align: right;\">\n",
       "      <th></th>\n",
       "      <th>Metadata</th>\n",
       "    </tr>\n",
       "  </thead>\n",
       "  <tbody>\n",
       "    <tr>\n",
       "      <th>titleText</th>\n",
       "      <td>Money Heist</td>\n",
       "    </tr>\n",
       "    <tr>\n",
       "      <th>titleType</th>\n",
       "      <td>TV Series</td>\n",
       "    </tr>\n",
       "    <tr>\n",
       "      <th>genres</th>\n",
       "      <td>Action,Crime,Drama,Mystery,Thriller</td>\n",
       "    </tr>\n",
       "    <tr>\n",
       "      <th>Languages</th>\n",
       "      <td>Spanish,Russian,Serbian,English</td>\n",
       "    </tr>\n",
       "    <tr>\n",
       "      <th>originalTitleText</th>\n",
       "      <td>La casa de papel</td>\n",
       "    </tr>\n",
       "    <tr>\n",
       "      <th>YearRange</th>\n",
       "      <td>2017 - 2021</td>\n",
       "    </tr>\n",
       "    <tr>\n",
       "      <th>runtime</th>\n",
       "      <td>4200</td>\n",
       "    </tr>\n",
       "    <tr>\n",
       "      <th>aggregateRating</th>\n",
       "      <td>8.2</td>\n",
       "    </tr>\n",
       "    <tr>\n",
       "      <th>voteCount</th>\n",
       "      <td>491631</td>\n",
       "    </tr>\n",
       "    <tr>\n",
       "      <th>meterRanking</th>\n",
       "      <td>251</td>\n",
       "    </tr>\n",
       "  </tbody>\n",
       "</table>\n",
       "</div>"
      ],
      "text/plain": [
       "                                              Metadata\n",
       "titleText                                  Money Heist\n",
       "titleType                                    TV Series\n",
       "genres             Action,Crime,Drama,Mystery,Thriller\n",
       "Languages              Spanish,Russian,Serbian,English\n",
       "originalTitleText                     La casa de papel\n",
       "YearRange                                  2017 - 2021\n",
       "runtime                                           4200\n",
       "aggregateRating                                    8.2\n",
       "voteCount                                       491631\n",
       "meterRanking                                       251"
      ]
     },
     "execution_count": 12,
     "metadata": {},
     "output_type": "execute_result"
    }
   ],
   "source": [
    "releaseYear = program_json_data['props']['pageProps']['aboveTheFoldData']['releaseYear']['year']\n",
    "endYear = program_json_data['props']['pageProps']['aboveTheFoldData']['releaseYear']['endYear']\n",
    "YearRange = f\"{releaseYear} - {endYear}\"\n",
    "\n",
    "program_data_dict = {\n",
    "    'titleText': program_json_data['props']['pageProps']['aboveTheFoldData']['titleText']['text'],\n",
    "    'titleType': program_json_data['props']['pageProps']['aboveTheFoldData']['titleType']['text'],\n",
    "    'genres': ','.join([genres_text['text'] for genres_text in program_json_data['props']['pageProps']['aboveTheFoldData']['genres']['genres']]),\n",
    "    'Languages': ','.join([language['text'] for language in program_json_data['props']['pageProps']['mainColumnData']['spokenLanguages']['spokenLanguages']]),\n",
    "    'originalTitleText': program_json_data['props']['pageProps']['aboveTheFoldData']['originalTitleText']['text'],\n",
    "    'YearRange': YearRange,\n",
    "    'runtime': program_json_data['props']['pageProps']['aboveTheFoldData']['runtime']['seconds'],\n",
    "    'aggregateRating': program_json_data['props']['pageProps']['aboveTheFoldData']['ratingsSummary']['aggregateRating'],\n",
    "    'voteCount': program_json_data['props']['pageProps']['aboveTheFoldData']['ratingsSummary']['voteCount'],\n",
    "    'meterRanking': program_json_data['props']['pageProps']['aboveTheFoldData']['meterRanking']['currentRank'],\n",
    "    'meterRanking': program_json_data['props']['pageProps']['aboveTheFoldData']['meterRanking']['currentRank'], \n",
    "    \n",
    "    'runtime': program_json_data['props']['pageProps']['aboveTheFoldData']['runtime']['seconds'],\n",
    "    'runtime': program_json_data['props']['pageProps']['aboveTheFoldData']['runtime']['seconds'],\n",
    "}\n",
    "    \n",
    "pd.DataFrame.from_dict(program_data_dict, orient='index', columns=['Metadata'])"
   ]
  },
  {
   "cell_type": "code",
   "execution_count": 13,
   "id": "a37232a8",
   "metadata": {},
   "outputs": [
    {
     "data": {
      "text/plain": [
       "[{'id': 'es', 'text': 'Spanish', '__typename': 'SpokenLanguage'},\n",
       " {'id': 'ru', 'text': 'Russian', '__typename': 'SpokenLanguage'},\n",
       " {'id': 'sr', 'text': 'Serbian', '__typename': 'SpokenLanguage'},\n",
       " {'id': 'en', 'text': 'English', '__typename': 'SpokenLanguage'}]"
      ]
     },
     "execution_count": 13,
     "metadata": {},
     "output_type": "execute_result"
    }
   ],
   "source": [
    "program_json_data['props']['pageProps']['mainColumnData']['spokenLanguages']['spokenLanguages']"
   ]
  },
  {
   "cell_type": "code",
   "execution_count": null,
   "id": "aed29ce1",
   "metadata": {},
   "outputs": [],
   "source": []
  },
  {
   "cell_type": "markdown",
   "id": "3770d4b7",
   "metadata": {},
   "source": [
    "## IMDB Datasets"
   ]
  },
  {
   "cell_type": "code",
   "execution_count": null,
   "id": "4ae3bd85",
   "metadata": {},
   "outputs": [],
   "source": [
    "from pathlib import Path\n",
    "\n",
    "CURR_DIR = Path().absolute()\n",
    "PARENT_DIR = CURR_DIR.parent.absolute()\n",
    "\n",
    "df = pd.read_csv(Path.joinpath(PARENT_DIR, 'Datasets/data.tsv'),sep='\\t', encoding='UTF-8', na_values='\\\\N')\n",
    "df"
   ]
  },
  {
   "cell_type": "code",
   "execution_count": null,
   "id": "b2ee1230",
   "metadata": {},
   "outputs": [],
   "source": [
    "df['titleType'].value_counts()"
   ]
  },
  {
   "cell_type": "code",
   "execution_count": null,
   "id": "688bbf75",
   "metadata": {},
   "outputs": [],
   "source": [
    "from pathlib import Path\n",
    "import pandas as pd\n",
    "import re\n",
    "\n",
    "from tqdm.auto import tqdm\n",
    "tqdm.pandas()\n",
    "\n",
    "# Current exec dir\n",
    "CURR_DIR = Path().absolute()\n",
    "# Parent dir\n",
    "parent_dir = CURR_DIR.parent.absolute()\n",
    "# Dataset DIR\n",
    "dataset_dir = Path.joinpath(parent_dir, 'Datasets')\n",
    "\n",
    "imdb_name_basics_df = pd.read_csv(Path.joinpath(dataset_dir, \"imdb_name_basics.tsv\"), sep='\\t', na_filter='\\\\n')\n",
    "imdb_title_akas_df = pd.read_csv(Path.joinpath(dataset_dir, \"imdb_title_akas.tsv\"), sep='\\t', na_filter='\\\\n')\n",
    "imdb_title_basics_df = pd.read_csv(Path.joinpath(dataset_dir, \"imdb_title_basics.tsv\"), sep='\\t', na_filter='\\\\n')\n",
    "imdb_title_crew_df = pd.read_csv(Path.joinpath(dataset_dir, \"imdb_title_crew.tsv\"), sep='\\t', na_filter='\\\\n')\n",
    "imdb_title_episode_df = pd.read_csv(Path.joinpath(dataset_dir, \"imdb_title_episode.tsv\"), sep='\\t', na_filter='\\\\n')\n",
    "imdb_title_principals_df = pd.read_csv(Path.joinpath(dataset_dir, \"imdb_title_principals.tsv\"), sep='\\t', na_filter='\\\\n')\n",
    "imdb_title_ratings_df = pd.read_csv(Path.joinpath(dataset_dir, \"imdb_title_ratings.tsv\"), sep='\\t', na_filter='\\\\n')\n",
    "\n",
    "# with pd.option_context('display.max_rows', None, 'display.max_colwidth', None):\n",
    "#     display(df)"
   ]
  },
  {
   "cell_type": "code",
   "execution_count": null,
   "id": "c8a04884",
   "metadata": {},
   "outputs": [],
   "source": [
    "import ipywidgets as widgets\n",
    "from ipywidgets import interactive\n",
    "\n",
    "files_path_list = list(map(str, dataset_dir.glob(\"*.tsv\")))\n",
    "all_df_names = [file_name.split('\\\\')[-1].split('.')[0] for file_name in files_path_list]\n",
    "\n",
    "def on_value_change(change):\n",
    "    # Set global df if want to check selected dataframe\n",
    "    global df\n",
    "\n",
    "    dynamic_df_file_name = all_df_names[change['new']]+'_df'\n",
    "    df = eval(dynamic_df_file_name).head(10).copy()\n",
    "\n",
    "    with report_output:\n",
    "        report_output.clear_output()\n",
    "        display(f\"File Name: {dynamic_df_file_name}\")\n",
    "        display(df)\n",
    "\n",
    "w_int_box = widgets.BoundedIntText(value=0, min=0, max=len(all_df_names)-1, step=1, description='Data Frame: ')\n",
    "\n",
    "report_output = widgets.Output()\n",
    "\n",
    "w_int_box.observe(on_value_change, names='value')\n",
    "display(w_int_box)\n",
    "display(report_output)"
   ]
  },
  {
   "cell_type": "code",
   "execution_count": null,
   "id": "e5a61cb0",
   "metadata": {},
   "outputs": [],
   "source": [
    "# Title and region info\n",
    "imdb_title_akas_df = ['titleId', 'ordering', 'title', 'region', 'language', 'types', 'attributes', 'isOriginalTitle']\n",
    "# content type, primary title, genres\n",
    "imdb_title_basics_df = ['tconst', 'titleType', 'primaryTitle', 'originalTitle', 'isAdult', 'startYear', 'endYear', 'runtimeMinutes', 'genres']\n",
    "# Episode info\n",
    "imdb_title_episode_df = ['tconst', 'parentTconst', 'seasonNumber', 'episodeNumber']"
   ]
  },
  {
   "cell_type": "code",
   "execution_count": null,
   "id": "7e971e24",
   "metadata": {},
   "outputs": [],
   "source": [
    "df2 = imdb_title_akas_df[imdb_title_akas_df['region'] == 'IN'].copy()"
   ]
  },
  {
   "cell_type": "code",
   "execution_count": null,
   "id": "c2bc9cb7",
   "metadata": {},
   "outputs": [],
   "source": [
    "with pd.option_context('display.max_rows', None, 'display.max_colwidth', None):\n",
    "    df2.sort_values('titleId')\n",
    "    display(df2.head(10000))"
   ]
  },
  {
   "cell_type": "code",
   "execution_count": null,
   "id": "530105b2",
   "metadata": {},
   "outputs": [],
   "source": [
    "df2.fillna('', inplace=True)"
   ]
  },
  {
   "cell_type": "code",
   "execution_count": null,
   "id": "337a2784",
   "metadata": {},
   "outputs": [],
   "source": [
    "df2[df2['title'].str.contains(r'^Billi')]"
   ]
  },
  {
   "cell_type": "code",
   "execution_count": null,
   "id": "d65778f2",
   "metadata": {},
   "outputs": [],
   "source": []
  }
 ],
 "metadata": {
  "kernelspec": {
   "display_name": "Python 3 (ipykernel)",
   "language": "python",
   "name": "python3"
  },
  "language_info": {
   "codemirror_mode": {
    "name": "ipython",
    "version": 3
   },
   "file_extension": ".py",
   "mimetype": "text/x-python",
   "name": "python",
   "nbconvert_exporter": "python",
   "pygments_lexer": "ipython3",
   "version": "3.9.13"
  }
 },
 "nbformat": 4,
 "nbformat_minor": 5
}
